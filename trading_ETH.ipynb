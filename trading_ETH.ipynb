{
 "cells": [
  {
   "cell_type": "markdown",
   "metadata": {},
   "source": [
    "# <center> Статистический анализ свойств инструмента\n"
   ]
  },
  {
   "cell_type": "markdown",
   "metadata": {},
   "source": [
    "Входные данные: файл с котировками, формат CSV, разделитель - запятая, выгруженный из Trading view.\n",
    "Формат даты: время в формате ISO"
   ]
  },
  {
   "cell_type": "markdown",
   "metadata": {},
   "source": [
    "Укажите путь к файлу, относительный или абсолютный:"
   ]
  },
  {
   "cell_type": "code",
   "execution_count": 19,
   "metadata": {},
   "outputs": [],
   "source": [
    "# Пример: 'data/BITTREX_DOGEUSD, 60 (2).csv', 'E:\\Projects\\data\\BITTREX_DOGEUSD, 60 (2).csv'\n",
    "\n",
    "path_csv = 'E:\\Математика финансов\\Котировки\\BINANCE_ETHUSD, 1D.csv'"
   ]
  },
  {
   "cell_type": "code",
   "execution_count": 20,
   "metadata": {},
   "outputs": [],
   "source": [
    "import pandas as pd\n",
    "import numpy as np\n",
    "\n",
    "import plotly.express as px\n",
    "import plotly.graph_objects as go\n",
    "\n",
    "from plotly.subplots import make_subplots"
   ]
  },
  {
   "cell_type": "code",
   "execution_count": 21,
   "metadata": {},
   "outputs": [
    {
     "name": "stdout",
     "output_type": "stream",
     "text": [
      "<class 'pandas.core.frame.DataFrame'>\n",
      "RangeIndex: 413 entries, 0 to 412\n",
      "Data columns (total 10 columns):\n",
      " #   Column     Non-Null Count  Dtype  \n",
      "---  ------     --------------  -----  \n",
      " 0   time       413 non-null    object \n",
      " 1   open       413 non-null    float64\n",
      " 2   high       413 non-null    float64\n",
      " 3   low        413 non-null    float64\n",
      " 4   close      413 non-null    float64\n",
      " 5   Volume     413 non-null    float64\n",
      " 6   Volume MA  413 non-null    float64\n",
      " 7   HL2        413 non-null    float32\n",
      " 8   dt         412 non-null    float64\n",
      " 9   dt знак    413 non-null    object \n",
      "dtypes: float32(1), float64(7), object(2)\n",
      "memory usage: 30.8+ KB\n",
      "None\n",
      "                        time        open        high         low       close  \\\n",
      "0  2020-11-10T03:00:00+03:00  444.780967  457.807765  435.237420  450.913793   \n",
      "1  2020-11-11T03:00:00+03:00  450.958698  483.056625  449.316753  463.819343   \n",
      "2  2020-11-12T03:00:00+03:00  463.680886  484.159298  437.025559  462.799846   \n",
      "3  2020-11-13T03:00:00+03:00  462.891297  482.791100  450.466095  477.026921   \n",
      "4  2020-11-14T03:00:00+03:00  477.056403  478.808319  450.530242  461.281926   \n",
      "5  2020-11-15T03:00:00+03:00  461.405346  466.662995  439.868079  448.542298   \n",
      "6  2020-11-16T03:00:00+03:00  448.494567  476.340566  435.582834  460.838018   \n",
      "7  2020-11-17T03:00:00+03:00  460.910038  500.379785  445.352074  482.782358   \n",
      "8  2020-11-18T03:00:00+03:00  482.726321  509.403624  451.327672  478.869364   \n",
      "9  2020-11-19T03:00:00+03:00  478.958076  492.369889  456.587268  471.906043   \n",
      "\n",
      "          Volume      Volume MA         HL2        dt  dt знак  \n",
      "0  306176.268704  295179.124885  446.522583       NaN     Рост  \n",
      "1  396174.171139  298760.281252  466.186676  0.043096     Рост  \n",
      "2  368074.283671  307448.791095  460.592438 -0.012073  Падение  \n",
      "3  367333.648536  318351.925249  466.628601  0.013020     Рост  \n",
      "4  212031.646474  322089.894561  464.669281 -0.004208  Падение  \n",
      "5  205140.133210  318990.222557  453.265533 -0.024848  Падение  \n",
      "6  273319.757829  319607.981548  455.961700  0.005931     Рост  \n",
      "7  408749.064098  325599.525579  472.865936  0.036403     Рост  \n",
      "8  502709.549017  338987.139587  480.365662  0.015736  Падение  \n",
      "9  326547.583297  342382.147135  474.478577 -0.012331  Падение  \n"
     ]
    }
   ],
   "source": [
    "data = pd.read_csv(path_csv)\n",
    "\n",
    "# Создание столбцов для дальнейшей работы и проверка структуры данных\n",
    "data['HL2'] = (data['high']+data['low'])/2\n",
    "data['HL2'] = data['HL2'].astype('float32')\n",
    "\n",
    "data['dt1'] = (data['HL2']/data['HL2'].shift())\n",
    "data['dt'] = data['dt1'].apply(lambda x: np.log(x))\n",
    "\n",
    "def dt_sign(x):\n",
    "    if x<0:\n",
    "        return 'Падение'\n",
    "    else:\n",
    "        return 'Рост'\n",
    "\n",
    "data['candle color'] = data['close'] - data['open']    \n",
    "data['dt знак'] = data['candle color'].apply(dt_sign)\n",
    "\n",
    "data = data.drop(['dt1', 'candle color'], axis=1)\n",
    "\n",
    "print(data.info())\n",
    "print(data.head(10))"
   ]
  },
  {
   "cell_type": "code",
   "execution_count": 22,
   "metadata": {},
   "outputs": [],
   "source": [
    "# Работа с датами\n",
    "data['time'] = pd.to_datetime(data['time'])\n",
    "data['time'] = data['time'].dt.date\n",
    "\n",
    "#print(data.tail(100))"
   ]
  },
  {
   "cell_type": "code",
   "execution_count": 23,
   "metadata": {},
   "outputs": [
    {
     "name": "stdout",
     "output_type": "stream",
     "text": [
      "Стандартное отклонение dt(%): 4.38\n",
      "Дисперсия dt: 0.00192\n"
     ]
    }
   ],
   "source": [
    "# Вывод распределения dt\n",
    "fig = make_subplots(rows=1, cols=2)\n",
    "\n",
    "# Дисперсия и стандартное отклонение\n",
    "std = data['dt'].std()\n",
    "print('Стандартное отклонение dt(%):', round(std*100, 2))\n",
    "varr = std*std\n",
    "print('Дисперсия dt:', round(varr, 5))\n",
    "\n",
    "filtered = data[(data['dt']< std) & (data['dt']>-1*std)]\n",
    "\n",
    "trace1 = go.Histogram(x=data['dt'], name='Все данные', xbins=dict(start=-1, end=1, size=0.02))\n",
    "\n",
    "# Рассмотрим подробнее интервал 1 стандартное отклонение\n",
    "trace2 = go.Histogram(x=filtered['dt'], name='В пределах стандартного отклонения', xbins=dict(start=-1*std, end=1*std, size=std/20))\n",
    "\n",
    "fig.update_layout(height = 500, width = 1200, title = 'Распределение приращений логарифмов цен')\n",
    "fig.append_trace(trace1, 1, 1)\n",
    "fig.append_trace(trace2, 1, 2)\n",
    "fig.write_image('data/dt.png')\n",
    "#fig.show()\n"
   ]
  },
  {
   "cell_type": "markdown",
   "metadata": {},
   "source": [
    "![](data/dt.png)"
   ]
  },
  {
   "cell_type": "code",
   "execution_count": 24,
   "metadata": {},
   "outputs": [
    {
     "name": "stdout",
     "output_type": "stream",
     "text": [
      "Сравнение объёмов по дням падения и роста:\n",
      "Рост:  63344571.31\n",
      "Падение:  44395221.1\n"
     ]
    }
   ],
   "source": [
    "# Вывод графика цены и объёмов\n",
    "fig = make_subplots(rows=1, cols=2)\n",
    "\n",
    "trace1 = go.Scatter(x=data['time'], y=data['HL2'], name='Цена (H+L)/2', line_shape='linear')\n",
    "trace2 = go.Scatter(x=data['time'], y=data['Volume'], name='Объём', line_shape='linear')\n",
    "\n",
    "fig.update_layout(height = 500, width = 1200, title = 'Объёмы и цены')\n",
    "fig.append_trace(trace1, 1, 1)\n",
    "fig.append_trace(trace2, 1, 2)\n",
    "fig.write_image('data/vol_price.png')\n",
    "#fig.show()\n",
    "\n",
    "# Проверка объёмов по дням падения и роста\n",
    "print('Сравнение объёмов по дням падения и роста:')\n",
    "\n",
    "vol1 = data[data['dt знак']=='Рост']['Volume'].sum()\n",
    "vol2 = data[data['dt знак']=='Падение']['Volume'].sum()\n",
    "\n",
    "print('Рост: ', round(vol1, 2))\n",
    "print('Падение: ', round(vol2, 2))\n"
   ]
  },
  {
   "cell_type": "markdown",
   "metadata": {},
   "source": [
    "![](data/vol_price.png)"
   ]
  },
  {
   "cell_type": "code",
   "execution_count": 25,
   "metadata": {},
   "outputs": [
    {
     "name": "stdout",
     "output_type": "stream",
     "text": [
      "     dt      corr\n",
      "0  dt-1  0.234819\n",
      "1  dt-2 -0.012364\n",
      "2  dt-3 -0.019932\n",
      "3  dt-4  0.015354\n",
      "4  dt-5 -0.038855\n",
      "5  dt-6  0.111421\n",
      "6  dt-7 -0.005811\n",
      "7  dt-8 -0.100987\n",
      "8  dt-9 -0.009405\n"
     ]
    }
   ],
   "source": [
    "# Построение АКФ\n",
    "\n",
    "corr = [] # коэфициенты корреляции\n",
    "dt_list = ['dt-1', 'dt-2', 'dt-3', 'dt-4', 'dt-5', 'dt-6', 'dt-7', 'dt-8', 'dt-9']\n",
    "\n",
    "# Расчёт dt-1 ... dt-9\n",
    "data['dt-1'] = data['dt'].shift() # значение того же столбца предыдущей строки\n",
    "for i in range (1, 9):\n",
    "    name = dt_list[i]\n",
    "    prev_name = dt_list[i-1]\n",
    "    data[name] = data[prev_name].shift()\n",
    "\n",
    "# Корреляция с dt-1... dt-9\n",
    "for i in range (0, 9):\n",
    "    name = dt_list[i]\n",
    "    x = data['dt'][10:].corr(data[name][10:]) # начиная с 10 строки, все значения dt... dt-9 непустые\n",
    "    corr.append(x)\n",
    "\n",
    "df_corr = pd.DataFrame({'dt': dt_list, 'corr': corr})\n",
    "print(df_corr)\n",
    "\n",
    "# Построение графика АКФ и вывод\n",
    "fig = px.bar(\n",
    "    x=dt_list,\n",
    "    y=corr,\n",
    "    height=500, #высота\n",
    "    width=700, #ширина\n",
    "    title='АКФ (x = dt, y = correlation)')\n",
    "fig.write_image('data/corr.png')\n",
    "#fig.show()"
   ]
  },
  {
   "cell_type": "markdown",
   "metadata": {},
   "source": [
    "![](data/corr.png)"
   ]
  },
  {
   "cell_type": "code",
   "execution_count": 26,
   "metadata": {},
   "outputs": [],
   "source": [
    "# Удаление служебных столбцов начиная с dt-2\n",
    "for i in range(1, 9):\n",
    "    name = dt_list[i]\n",
    "    data = data.drop(name, axis=1)\n",
    "    \n",
    "#print(data.info())"
   ]
  },
  {
   "cell_type": "code",
   "execution_count": 27,
   "metadata": {},
   "outputs": [
    {
     "name": "stdout",
     "output_type": "stream",
     "text": [
      "Количество ситуаций, когда знаки соседних приращений равны (%):  57.38\n",
      "Средняя длина тренда:  2.3  приращений\n",
      "Трендов длины  1 :  38.98 %\n",
      "Трендов длины  2 :  26.55 %\n",
      "Трендов длины  3 :  15.25 %\n"
     ]
    }
   ],
   "source": [
    "# Расчёт статистического преимущества и средней длины тренда\n",
    "data['sign'] = (data['dt'] * data['dt-1'] > 0)\n",
    "data['sign'] = data['sign'].apply(lambda x: 0 if not x else 1)\n",
    "\n",
    "# Найдём все тренды (приращения одного знака, идущие подряд)\n",
    "x = list(data['sign'])\n",
    "trends = [] # список всех длин трендов\n",
    "trend = 1 # длина текущего тренда\n",
    "for i in range(len(x)):\n",
    "    if x[i] == 1:   # если встречаем 1, увеличиваем длину тренда на 1\n",
    "        trend += 1\n",
    "    if x[i] == 0:   # если 0, то начинаем отсчёт сначала, а длину текущего тренда сохраняем\n",
    "        trends.append(trend)\n",
    "        trend = 1\n",
    "trends.append(trend)                \n",
    "\n",
    "# Средняя длина тренда\n",
    "# С массивом работать удобнее, есть статистические функции\n",
    "arr_trends = np.array(trends)\n",
    "trend_mean = round(arr_trends.mean(), 1)\n",
    "\n",
    "# Количество трендов разной длины\n",
    "from collections import Counter\n",
    "count = Counter(trends)\n",
    "\n",
    "# Вывод графика распределения\n",
    "trace1 = go.Histogram(y=trends, name='Все тренды', xbins=dict(start=0, end=arr_trends.max(), size=1))\n",
    "\n",
    "# Линия y = средняя длина\n",
    "x_list = []\n",
    "y_list = []\n",
    "for i in range (0, count[1]):\n",
    "    x_list.append(i)\n",
    "    y_list.append(trend_mean)\n",
    "  \n",
    "trace2 = go.Scatter(x=x_list, y=y_list, name='Средняя длина', line_shape='linear')\n",
    "\n",
    "# Объединение двух графиков в один\n",
    "fig = go.Figure()\n",
    "fig.update_layout(height=500, width=800, title='Распределение длины трендов (последовательностей приращений одного знака)')\n",
    "fig.add_trace(trace1)\n",
    "fig.add_trace(trace2)\n",
    "fig.write_image('data/trends.png')\n",
    "#fig.show()\n",
    "\n",
    "# Статистическое преимущество\n",
    "trending = data['sign'].mean()\n",
    "print('Количество ситуаций, когда знаки соседних приращений равны (%): ', round(trending*100, 2))\n",
    "\n",
    "print('Средняя длина тренда: ', trend_mean, \" приращений\")\n",
    "\n",
    "# Процентное соотношение трендов длины 1-3\n",
    "for i in range (1, 4):\n",
    "    n = count[i]\n",
    "    print('Трендов длины ', i, ': ', round(count[i]/(len(trends))*100, 2), '%')\n"
   ]
  },
  {
   "cell_type": "markdown",
   "metadata": {},
   "source": [
    "![](data/trends.png)"
   ]
  },
  {
   "cell_type": "code",
   "execution_count": 28,
   "metadata": {},
   "outputs": [],
   "source": [
    "# Анализ положительных и отрицательных приращений\n",
    "\n",
    "# Запишем станд отклонение в базу со знаком, соответствующим знаку приращения, для вывода горизонтальной линии\n",
    "data['std'] = data['dt'].apply(lambda x: std if x>0 else -1*std)\n",
    "\n",
    "dt_positive = data[data['dt'] > 0]\n",
    "dt_negative = data[data['dt'] < 0]\n",
    "\n",
    "# Положительные приращения\n",
    "trace1 = go.Scatter(x=dt_positive['time'], y=dt_positive['dt'], mode='markers', name='Приращения')\n",
    "\n",
    "# Линия y = стандартное отклонение\n",
    "trace2 = go.Scatter(x=dt_positive['time'], y=dt_positive['std'], name='Станд отклонение', line_shape='linear')\n",
    "\n",
    "# Объединение двух графиков в один\n",
    "fig = go.Figure()\n",
    "fig.update_layout(height=500, width=1000, title='Анализ положительных приращений')\n",
    "fig.add_trace(trace1)\n",
    "fig.add_trace(trace2)\n",
    "fig.write_image('data/dt_pos.png')\n",
    "#fig.show()\n",
    "\n",
    "\n",
    "# Отрицательные приращения\n",
    "trace1 = go.Scatter(x=dt_negative['time'], y=dt_negative['dt'], mode='markers', name='Приращения')\n",
    "\n",
    "# Линия y = стандартное отклонение\n",
    "trace2 = go.Scatter(x=dt_negative['time'], y=dt_negative['std'], name='Станд отклонение', line_shape='linear')\n",
    "\n",
    "# Объединение двух графиков в один\n",
    "fig = go.Figure()\n",
    "fig.update_layout(height=500, width=1000, title='Анализ отрицательных приращений')\n",
    "fig.add_trace(trace1)\n",
    "fig.add_trace(trace2)\n",
    "fig.write_image('data/dt_neg.png')\n",
    "#fig.show()"
   ]
  },
  {
   "cell_type": "markdown",
   "metadata": {},
   "source": [
    "![](data/dt_pos.png)"
   ]
  },
  {
   "cell_type": "markdown",
   "metadata": {},
   "source": [
    "![](data/dt_neg.png)"
   ]
  },
  {
   "cell_type": "code",
   "execution_count": 29,
   "metadata": {},
   "outputs": [
    {
     "name": "stdout",
     "output_type": "stream",
     "text": [
      "Положительные приращения:\n",
      "Всего:  239 57.87 %\n",
      "< 1 стандартного отклонения:  172 71.97 %\n",
      "< 2 стандартных отклонений:  232 97.07 %\n",
      "< 3 стандартных отклонений:  237 99.16 %\n",
      "Отрицательные приращения:\n",
      "Всего:  173 41.89 %\n",
      "< 1 стандартного отклонения:  132 76.3 %\n",
      "< 2 стандартных отклонений:  161 93.06 %\n",
      "< 3 стандартных отклонений:  171 98.84 %\n"
     ]
    }
   ],
   "source": [
    "# Анализ приращений в сравнении со стандартным отклонением\n",
    "\n",
    "# Положительных...\n",
    "print('Положительные приращения:')\n",
    "print('Всего: ', dt_positive.shape[0], round(dt_positive.shape[0]/data.shape[0]*100, 2), '%')\n",
    "mask = (dt_positive['dt'] < std)\n",
    "n = dt_positive[mask].shape[0] / dt_positive.shape[0]\n",
    "print('< 1 стандартного отклонения: ', dt_positive[mask].shape[0], round(n*100, 2), '%')\n",
    "\n",
    "mask = (dt_positive['dt'] < 2*std)\n",
    "n = dt_positive[mask].shape[0] / dt_positive.shape[0]\n",
    "print('< 2 стандартных отклонений: ', dt_positive[mask].shape[0], round(n*100, 2), '%')\n",
    "\n",
    "mask = (dt_positive['dt'] < 3*std)\n",
    "n = dt_positive[mask].shape[0] / dt_positive.shape[0]\n",
    "print('< 3 стандартных отклонений: ', dt_positive[mask].shape[0], round(n*100, 2), '%')\n",
    "\n",
    "# ... и отрицательных\n",
    "print('Отрицательные приращения:')\n",
    "print('Всего: ', dt_negative.shape[0], round(dt_negative.shape[0]/data.shape[0]*100, 2), '%')\n",
    "\n",
    "mask = (dt_negative['dt'] > -1*std)\n",
    "n = dt_negative[mask].shape[0] / dt_negative.shape[0]\n",
    "print('< 1 стандартного отклонения: ', dt_negative[mask].shape[0], round(n*100, 2), '%')\n",
    "\n",
    "mask = (dt_negative['dt'] > -2*std)\n",
    "n = dt_negative[mask].shape[0] / dt_negative.shape[0]\n",
    "print('< 2 стандартных отклонений: ', dt_negative[mask].shape[0], round(n*100, 2), '%')\n",
    "\n",
    "mask = (dt_negative['dt'] > -3*std)\n",
    "n = dt_negative[mask].shape[0] / dt_negative.shape[0]\n",
    "print('< 3 стандартных отклонений: ', dt_negative[mask].shape[0], round(n*100, 2), '%')\n"
   ]
  }
 ],
 "metadata": {
  "interpreter": {
   "hash": "4f10dd5a24d815679ac42dc1bc4e34e853cad85f210905d353dce920ee0c2f85"
  },
  "kernelspec": {
   "display_name": "Python 3.8.12 64-bit ('Nadin_tiger': conda)",
   "language": "python",
   "name": "python3"
  },
  "language_info": {
   "codemirror_mode": {
    "name": "ipython",
    "version": 3
   },
   "file_extension": ".py",
   "mimetype": "text/x-python",
   "name": "python",
   "nbconvert_exporter": "python",
   "pygments_lexer": "ipython3",
   "version": "3.8.12"
  },
  "orig_nbformat": 4
 },
 "nbformat": 4,
 "nbformat_minor": 2
}
