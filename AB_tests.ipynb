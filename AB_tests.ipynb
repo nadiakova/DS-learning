{
 "cells": [
  {
   "cell_type": "markdown",
   "id": "c8a6af25-08d3-487a-bd90-001772ac9161",
   "metadata": {},
   "source": [
    "## <center> **Анализ результатов A/B-тестирования**"
   ]
  },
  {
   "cell_type": "markdown",
   "id": "d7d45571-6545-4904-a86b-9b3b6b8163d3",
   "metadata": {},
   "source": [
    "Компания планирует запустить новую акцию, чтобы продать как можно больше туров. Команда разработала два варианта посадочной страницы официального сайта компании и провела A/B-тестирование. Собранные в результате проведения эксперимента данные вы можете найти здесь.\n",
    "\n",
    "Вам предстоит решить настоящую бизнес-задачу: проанализировать эффективность обоих вариантов посадочной страницы сразу по двум критериям: конверсии покупки и среднему чеку. На основе проведенного анализа вам будет необходимо сделать выводы и принять решение: какой из вариантов дизайна более предпочтительный.\n",
    "\n",
    "Итак, наша фирма предлагает следующие варианты туров и их соответствующие стоимости:\n",
    "* Таиланд — 100000 рублей;\n",
    "* Турция — 60000 рублей;\n",
    "* Мальдивы — 200000 рублей;\n",
    "* Санкт-Петербург — 10000 рублей;\n",
    "* Камчатка — 150000 рублей."
   ]
  },
  {
   "cell_type": "code",
   "execution_count": 2,
   "id": "a974b482-e192-4014-8520-8a5c0c946da6",
   "metadata": {},
   "outputs": [],
   "source": [
    "import pandas as pd\n",
    "import matplotlib.pyplot as plt\n",
    "import seaborn as sns\n",
    "from scipy.stats import norm\n",
    "from scipy.stats import t\n",
    "from scipy.stats import ttest_ind, shapiro, f_oneway, mannwhitneyu\n",
    "from statsmodels.stats.proportion import proportions_ztest"
   ]
  },
  {
   "cell_type": "code",
   "execution_count": 3,
   "id": "b0d18245-b9da-44bd-8aea-d272ea74b63a",
   "metadata": {},
   "outputs": [
    {
     "data": {
      "text/html": [
       "<div>\n",
       "<style scoped>\n",
       "    .dataframe tbody tr th:only-of-type {\n",
       "        vertical-align: middle;\n",
       "    }\n",
       "\n",
       "    .dataframe tbody tr th {\n",
       "        vertical-align: top;\n",
       "    }\n",
       "\n",
       "    .dataframe thead th {\n",
       "        text-align: right;\n",
       "    }\n",
       "</style>\n",
       "<table border=\"1\" class=\"dataframe\">\n",
       "  <thead>\n",
       "    <tr style=\"text-align: right;\">\n",
       "      <th></th>\n",
       "      <th>user_id</th>\n",
       "      <th>date</th>\n",
       "      <th>group</th>\n",
       "      <th>purchase</th>\n",
       "      <th>price</th>\n",
       "    </tr>\n",
       "  </thead>\n",
       "  <tbody>\n",
       "    <tr>\n",
       "      <th>0</th>\n",
       "      <td>851104</td>\n",
       "      <td>2021-01-21</td>\n",
       "      <td>A</td>\n",
       "      <td>0</td>\n",
       "      <td>0</td>\n",
       "    </tr>\n",
       "    <tr>\n",
       "      <th>1</th>\n",
       "      <td>804228</td>\n",
       "      <td>2021-01-12</td>\n",
       "      <td>A</td>\n",
       "      <td>0</td>\n",
       "      <td>0</td>\n",
       "    </tr>\n",
       "    <tr>\n",
       "      <th>2</th>\n",
       "      <td>661590</td>\n",
       "      <td>2021-01-11</td>\n",
       "      <td>B</td>\n",
       "      <td>0</td>\n",
       "      <td>0</td>\n",
       "    </tr>\n",
       "    <tr>\n",
       "      <th>3</th>\n",
       "      <td>853541</td>\n",
       "      <td>2021-01-08</td>\n",
       "      <td>B</td>\n",
       "      <td>0</td>\n",
       "      <td>0</td>\n",
       "    </tr>\n",
       "    <tr>\n",
       "      <th>4</th>\n",
       "      <td>864975</td>\n",
       "      <td>2021-01-21</td>\n",
       "      <td>A</td>\n",
       "      <td>1</td>\n",
       "      <td>150000</td>\n",
       "    </tr>\n",
       "  </tbody>\n",
       "</table>\n",
       "</div>"
      ],
      "text/plain": [
       "   user_id        date group  purchase   price\n",
       "0   851104  2021-01-21     A         0       0\n",
       "1   804228  2021-01-12     A         0       0\n",
       "2   661590  2021-01-11     B         0       0\n",
       "3   853541  2021-01-08     B         0       0\n",
       "4   864975  2021-01-21     A         1  150000"
      ]
     },
     "execution_count": 3,
     "metadata": {},
     "output_type": "execute_result"
    }
   ],
   "source": [
    "# Чтение и оценка вида данных\n",
    "data = pd.read_csv('data/ab_data_tourist.csv')\n",
    "data.head()"
   ]
  },
  {
   "cell_type": "markdown",
   "id": "2fc48225-26ac-49c4-b99d-8b2a03dd74a1",
   "metadata": {
    "tags": []
   },
   "source": [
    "Исследование структуры данных"
   ]
  },
  {
   "cell_type": "code",
   "execution_count": 4,
   "id": "23496521-4878-46e2-ab02-1a98be14884a",
   "metadata": {},
   "outputs": [
    {
     "name": "stdout",
     "output_type": "stream",
     "text": [
      "<class 'pandas.core.frame.DataFrame'>\n",
      "RangeIndex: 294478 entries, 0 to 294477\n",
      "Data columns (total 5 columns):\n",
      " #   Column    Non-Null Count   Dtype \n",
      "---  ------    --------------   ----- \n",
      " 0   user_id   294478 non-null  int64 \n",
      " 1   date      294478 non-null  object\n",
      " 2   group     294478 non-null  object\n",
      " 3   purchase  294478 non-null  int64 \n",
      " 4   price     294478 non-null  int64 \n",
      "dtypes: int64(3), object(2)\n",
      "memory usage: 11.2+ MB\n"
     ]
    }
   ],
   "source": [
    "data.info()"
   ]
  },
  {
   "cell_type": "markdown",
   "id": "f96c6558",
   "metadata": {},
   "source": [
    "Столбец date имеет тип object, для доступа к функциям работы с датой приведём его к типу Pandas datetime."
   ]
  },
  {
   "cell_type": "markdown",
   "id": "946d017d-b4fe-4a17-b91d-0ce369d1ab2e",
   "metadata": {
    "tags": []
   },
   "source": [
    "## Период проведения AB теста"
   ]
  },
  {
   "cell_type": "code",
   "execution_count": 5,
   "id": "604c619d-6338-45c8-8248-ac098a2366bb",
   "metadata": {},
   "outputs": [
    {
     "name": "stdout",
     "output_type": "stream",
     "text": [
      "Период проведения теста для группы А: (Timestamp('2021-01-02 00:00:00'), Timestamp('2021-01-24 00:00:00'))\n",
      "Период проведения теста для группы B: (Timestamp('2021-01-02 00:00:00'), Timestamp('2021-01-24 00:00:00'))\n"
     ]
    }
   ],
   "source": [
    "# Преобразуем тип данных\n",
    "data['date'] =pd.to_datetime(data['date'])\n",
    "\n",
    "# Длительность теста группы А и группы B\n",
    "period_a = (data[data['group'] == 'A']['date'].min(), data[data['group'] == 'A']['date'].max())\n",
    "period_b = (data[data['group'] == 'B']['date'].min(), data[data['group'] == 'B']['date'].max())\n",
    "\n",
    "print(f'Период проведения теста для группы А: {period_a}')\n",
    "print(f'Период проведения теста для группы B: {period_b}')"
   ]
  },
  {
   "cell_type": "markdown",
   "id": "8819e667",
   "metadata": {},
   "source": [
    "## Размеры выборки"
   ]
  },
  {
   "cell_type": "code",
   "execution_count": 6,
   "id": "02bf0148-488e-4f34-95bf-37794b2fa98b",
   "metadata": {},
   "outputs": [
    {
     "data": {
      "text/plain": [
       "B    147276\n",
       "A    147202\n",
       "Name: group, dtype: int64"
      ]
     },
     "execution_count": 6,
     "metadata": {},
     "output_type": "execute_result"
    }
   ],
   "source": [
    "# количество посещений сайта\n",
    "data['group'].value_counts()"
   ]
  },
  {
   "cell_type": "markdown",
   "id": "ec228829",
   "metadata": {},
   "source": [
    "Количество посещений сайта в группе А составило 147 202 (49.99%), в группе В - 147 276 (50.01%) "
   ]
  },
  {
   "cell_type": "code",
   "execution_count": 7,
   "id": "17426807",
   "metadata": {},
   "outputs": [
    {
     "data": {
      "text/html": [
       "<div>\n",
       "<style scoped>\n",
       "    .dataframe tbody tr th:only-of-type {\n",
       "        vertical-align: middle;\n",
       "    }\n",
       "\n",
       "    .dataframe tbody tr th {\n",
       "        vertical-align: top;\n",
       "    }\n",
       "\n",
       "    .dataframe thead th {\n",
       "        text-align: right;\n",
       "    }\n",
       "</style>\n",
       "<table border=\"1\" class=\"dataframe\">\n",
       "  <thead>\n",
       "    <tr style=\"text-align: right;\">\n",
       "      <th></th>\n",
       "      <th>group</th>\n",
       "      <th>purchase_qty</th>\n",
       "    </tr>\n",
       "  </thead>\n",
       "  <tbody>\n",
       "    <tr>\n",
       "      <th>0</th>\n",
       "      <td>A</td>\n",
       "      <td>17723</td>\n",
       "    </tr>\n",
       "    <tr>\n",
       "      <th>1</th>\n",
       "      <td>B</td>\n",
       "      <td>17514</td>\n",
       "    </tr>\n",
       "  </tbody>\n",
       "</table>\n",
       "</div>"
      ],
      "text/plain": [
       "  group  purchase_qty\n",
       "0     A         17723\n",
       "1     B         17514"
      ]
     },
     "execution_count": 7,
     "metadata": {},
     "output_type": "execute_result"
    }
   ],
   "source": [
    "# суммарное количество покупок\n",
    "data.groupby('group', as_index=False).agg(purchase_qty=('purchase', 'sum'))"
   ]
  },
  {
   "cell_type": "markdown",
   "id": "6ce28518",
   "metadata": {},
   "source": [
    "Количество покупок в группе А составило 17 723, в группе В - 17 514"
   ]
  },
  {
   "cell_type": "code",
   "execution_count": 8,
   "id": "448373e6",
   "metadata": {},
   "outputs": [
    {
     "data": {
      "text/html": [
       "<div>\n",
       "<style scoped>\n",
       "    .dataframe tbody tr th:only-of-type {\n",
       "        vertical-align: middle;\n",
       "    }\n",
       "\n",
       "    .dataframe tbody tr th {\n",
       "        vertical-align: top;\n",
       "    }\n",
       "\n",
       "    .dataframe thead th {\n",
       "        text-align: right;\n",
       "    }\n",
       "</style>\n",
       "<table border=\"1\" class=\"dataframe\">\n",
       "  <thead>\n",
       "    <tr style=\"text-align: right;\">\n",
       "      <th></th>\n",
       "      <th>group</th>\n",
       "      <th>purchase_sum</th>\n",
       "    </tr>\n",
       "  </thead>\n",
       "  <tbody>\n",
       "    <tr>\n",
       "      <th>0</th>\n",
       "      <td>A</td>\n",
       "      <td>1436.26</td>\n",
       "    </tr>\n",
       "    <tr>\n",
       "      <th>1</th>\n",
       "      <td>B</td>\n",
       "      <td>1554.10</td>\n",
       "    </tr>\n",
       "  </tbody>\n",
       "</table>\n",
       "</div>"
      ],
      "text/plain": [
       "  group  purchase_sum\n",
       "0     A       1436.26\n",
       "1     B       1554.10"
      ]
     },
     "execution_count": 8,
     "metadata": {},
     "output_type": "execute_result"
    }
   ],
   "source": [
    "# сумма покупок в группах А и В\n",
    "data_sum = data.groupby('group', as_index=False).agg(purchase_sum=('price', 'sum'))\n",
    "data_sum['purchase_sum'] = data_sum['purchase_sum']/1000000\n",
    "\n",
    "data_sum"
   ]
  },
  {
   "cell_type": "markdown",
   "id": "e6cf2399",
   "metadata": {},
   "source": [
    "Общая сумма покупок в группе А составила 1 436.26 млн.руб., в группе В - 1 554.10 млн.руб."
   ]
  },
  {
   "cell_type": "markdown",
   "id": "2434db1b-17e6-4977-8e54-1df875c6f221",
   "metadata": {
    "tags": []
   },
   "source": [
    "Проверим, есть ли пользователи, которые в процессе A/B-теста попали в обе тестовые группы"
   ]
  },
  {
   "cell_type": "code",
   "execution_count": 9,
   "id": "57a2d711-057d-4f8b-9f56-df0f772d41c8",
   "metadata": {},
   "outputs": [
    {
     "name": "stdout",
     "output_type": "stream",
     "text": [
      "Количество пользователей, попавших одновременно в обе группы: 1895\n"
     ]
    }
   ],
   "source": [
    "# множества id пользователей для каждой группы\n",
    "set_a = set(data[data['group'] == 'A']['user_id'])\n",
    "set_b = set(data[data['group'] == 'B']['user_id'])\n",
    "\n",
    "# и их пересечение\n",
    "user_intersection = set_a & set_b\n",
    "print(f'Количество пользователей, попавших одновременно в обе группы: {len(user_intersection)}')"
   ]
  },
  {
   "cell_type": "markdown",
   "id": "118b1904-7d7a-4935-825e-535da45c611b",
   "metadata": {
    "tags": []
   },
   "source": [
    "Исключим таких пользователей"
   ]
  },
  {
   "cell_type": "code",
   "execution_count": 10,
   "id": "f618b34b-35a3-4bf1-8d6d-38b3401930b7",
   "metadata": {},
   "outputs": [
    {
     "data": {
      "text/plain": [
       "290688"
      ]
     },
     "execution_count": 10,
     "metadata": {},
     "output_type": "execute_result"
    }
   ],
   "source": [
    "# воспользуемся авторским вариантом :)\n",
    "updated_data = data[data['user_id'].apply(lambda x: x not in user_intersection)]\n",
    "\n",
    "# проверим количество строк\n",
    "updated_data.shape[0]"
   ]
  },
  {
   "attachments": {
    "95f235d2-6323-4799-bf69-697fc57f727b.png": {
     "image/png": "[encoded data removed]"
    }
   },
   "cell_type": "markdown",
   "id": "2ddf6b2c-7987-41f3-82b1-8992630ae97b",
   "metadata": {
    "tags": []
   },
   "source": [
    "## Первичный анализ результатов AB тестирования"
   ]
  },
  {
   "cell_type": "code",
   "execution_count": 11,
   "id": "5c0c018e-a250-48e9-b72a-e3c7be586ebd",
   "metadata": {},
   "outputs": [
    {
     "data": {
      "text/html": [
       "<div>\n",
       "<style scoped>\n",
       "    .dataframe tbody tr th:only-of-type {\n",
       "        vertical-align: middle;\n",
       "    }\n",
       "\n",
       "    .dataframe tbody tr th {\n",
       "        vertical-align: top;\n",
       "    }\n",
       "\n",
       "    .dataframe thead th {\n",
       "        text-align: right;\n",
       "    }\n",
       "</style>\n",
       "<table border=\"1\" class=\"dataframe\">\n",
       "  <thead>\n",
       "    <tr style=\"text-align: right;\">\n",
       "      <th></th>\n",
       "      <th>group</th>\n",
       "      <th>count_visits</th>\n",
       "      <th>count_purchases</th>\n",
       "      <th>sum_price</th>\n",
       "    </tr>\n",
       "  </thead>\n",
       "  <tbody>\n",
       "    <tr>\n",
       "      <th>0</th>\n",
       "      <td>A</td>\n",
       "      <td>145307</td>\n",
       "      <td>17487</td>\n",
       "      <td>1417780000</td>\n",
       "    </tr>\n",
       "    <tr>\n",
       "      <th>1</th>\n",
       "      <td>B</td>\n",
       "      <td>145381</td>\n",
       "      <td>17290</td>\n",
       "      <td>1533010000</td>\n",
       "    </tr>\n",
       "  </tbody>\n",
       "</table>\n",
       "</div>"
      ],
      "text/plain": [
       "  group  count_visits  count_purchases   sum_price\n",
       "0     A        145307            17487  1417780000\n",
       "1     B        145381            17290  1533010000"
      ]
     },
     "execution_count": 11,
     "metadata": {},
     "output_type": "execute_result"
    }
   ],
   "source": [
    "# ваш код здесь\n",
    "data_grouped = updated_data.groupby('group', as_index=False).agg(count_visits=('group', 'count'), # количество посещений\n",
    "                                                         count_purchases=('purchase', 'sum'), # количество покупок\n",
    "                                                         sum_price=('price', 'sum')) # сумма покупок\n",
    "\n",
    "data_grouped"
   ]
  },
  {
   "cell_type": "markdown",
   "id": "4ea1b65b-475e-4bff-9460-fac0acdb9620",
   "metadata": {},
   "source": [
    "Количество пользователей практически равно в обеих группах. Выборки сбалансированы."
   ]
  },
  {
   "cell_type": "code",
   "execution_count": 12,
   "id": "bd9c3b3e-5956-41a8-bae0-43693f6de1f2",
   "metadata": {},
   "outputs": [
    {
     "data": {
      "text/html": [
       "<div>\n",
       "<style scoped>\n",
       "    .dataframe tbody tr th:only-of-type {\n",
       "        vertical-align: middle;\n",
       "    }\n",
       "\n",
       "    .dataframe tbody tr th {\n",
       "        vertical-align: top;\n",
       "    }\n",
       "\n",
       "    .dataframe thead th {\n",
       "        text-align: right;\n",
       "    }\n",
       "</style>\n",
       "<table border=\"1\" class=\"dataframe\">\n",
       "  <thead>\n",
       "    <tr style=\"text-align: right;\">\n",
       "      <th></th>\n",
       "      <th>group</th>\n",
       "      <th>count_visits</th>\n",
       "      <th>count_purchases</th>\n",
       "      <th>sum_price</th>\n",
       "      <th>conversion</th>\n",
       "      <th>mean_check</th>\n",
       "    </tr>\n",
       "  </thead>\n",
       "  <tbody>\n",
       "    <tr>\n",
       "      <th>0</th>\n",
       "      <td>A</td>\n",
       "      <td>145307</td>\n",
       "      <td>17487</td>\n",
       "      <td>1417780000</td>\n",
       "      <td>12.03</td>\n",
       "      <td>8.107623e+06</td>\n",
       "    </tr>\n",
       "    <tr>\n",
       "      <th>1</th>\n",
       "      <td>B</td>\n",
       "      <td>145381</td>\n",
       "      <td>17290</td>\n",
       "      <td>1533010000</td>\n",
       "      <td>11.89</td>\n",
       "      <td>8.866455e+06</td>\n",
       "    </tr>\n",
       "  </tbody>\n",
       "</table>\n",
       "</div>"
      ],
      "text/plain": [
       "  group  count_visits  count_purchases   sum_price  conversion    mean_check\n",
       "0     A        145307            17487  1417780000       12.03  8.107623e+06\n",
       "1     B        145381            17290  1533010000       11.89  8.866455e+06"
      ]
     },
     "execution_count": 12,
     "metadata": {},
     "output_type": "execute_result"
    }
   ],
   "source": [
    "# конверсия\n",
    "data_grouped['conversion'] = data_grouped['count_purchases']/data_grouped['count_visits']*100\n",
    "data_grouped['conversion'] = data_grouped['conversion'].apply(lambda x: round(x, 2))\n",
    "\n",
    "# средний чек\n",
    "data_grouped['mean_check'] = data_grouped['sum_price']/data_grouped['count_purchases']*100\n",
    "\n",
    "data_grouped"
   ]
  },
  {
   "cell_type": "markdown",
   "id": "9e88c883-84f9-44ec-accd-04d5d459b261",
   "metadata": {},
   "source": [
    "Вариант А оказался эффективнее по конверсии на 0.14 процентных пункта, в то время как средний чек варианта В выше на 9.3% или (7 859 р)."
   ]
  },
  {
   "cell_type": "markdown",
   "id": "7f9f1ae0-f12f-49b3-8b57-1c299c208c49",
   "metadata": {
    "tags": []
   },
   "source": [
    "Сравним варианты по покупательской способности"
   ]
  },
  {
   "cell_type": "code",
   "execution_count": 13,
   "id": "78d46a02-cc30-4783-9b18-9fc9c6a08012",
   "metadata": {},
   "outputs": [
    {
     "data": {
      "text/html": [
       "<div>\n",
       "<style scoped>\n",
       "    .dataframe tbody tr th:only-of-type {\n",
       "        vertical-align: middle;\n",
       "    }\n",
       "\n",
       "    .dataframe tbody tr th {\n",
       "        vertical-align: top;\n",
       "    }\n",
       "\n",
       "    .dataframe thead tr th {\n",
       "        text-align: left;\n",
       "    }\n",
       "\n",
       "    .dataframe thead tr:last-of-type th {\n",
       "        text-align: right;\n",
       "    }\n",
       "</style>\n",
       "<table border=\"1\" class=\"dataframe\">\n",
       "  <thead>\n",
       "    <tr>\n",
       "      <th></th>\n",
       "      <th colspan=\"2\" halign=\"left\">purchase</th>\n",
       "    </tr>\n",
       "    <tr>\n",
       "      <th>group</th>\n",
       "      <th>A</th>\n",
       "      <th>B</th>\n",
       "    </tr>\n",
       "    <tr>\n",
       "      <th>price</th>\n",
       "      <th></th>\n",
       "      <th></th>\n",
       "    </tr>\n",
       "  </thead>\n",
       "  <tbody>\n",
       "    <tr>\n",
       "      <th>10000</th>\n",
       "      <td>5182</td>\n",
       "      <td>5201</td>\n",
       "    </tr>\n",
       "    <tr>\n",
       "      <th>60000</th>\n",
       "      <td>5271</td>\n",
       "      <td>1730</td>\n",
       "    </tr>\n",
       "    <tr>\n",
       "      <th>100000</th>\n",
       "      <td>1832</td>\n",
       "      <td>5227</td>\n",
       "    </tr>\n",
       "    <tr>\n",
       "      <th>150000</th>\n",
       "      <td>3478</td>\n",
       "      <td>3438</td>\n",
       "    </tr>\n",
       "    <tr>\n",
       "      <th>200000</th>\n",
       "      <td>1724</td>\n",
       "      <td>1694</td>\n",
       "    </tr>\n",
       "  </tbody>\n",
       "</table>\n",
       "</div>"
      ],
      "text/plain": [
       "       purchase      \n",
       "group         A     B\n",
       "price                \n",
       "10000      5182  5201\n",
       "60000      5271  1730\n",
       "100000     1832  5227\n",
       "150000     3478  3438\n",
       "200000     1724  1694"
      ]
     },
     "execution_count": 13,
     "metadata": {},
     "output_type": "execute_result"
    }
   ],
   "source": [
    "# отфильтруем строки с ценой, равной нулю\n",
    "mask = updated_data[updated_data['price'] != 0]\n",
    "\n",
    "# сводная таблица: строки - цена, столбцы - группы, значения - кол-во покупок\n",
    "pivot = pd.pivot_table(mask, index='price', columns=['group'], values=['purchase'], aggfunc='count')\n",
    "pivot"
   ]
  },
  {
   "cell_type": "code",
   "execution_count": 14,
   "id": "e71db1db",
   "metadata": {},
   "outputs": [
    {
     "data": {
      "text/plain": [
       "Text(0.5, 1.0, 'Зависимость кол-ва продаж от группы и цены тура')"
      ]
     },
     "execution_count": 14,
     "metadata": {},
     "output_type": "execute_result"
    },
    {
     "data": {
      "image/png": "[encoded data removed]",
      "text/plain": [
       "<Figure size 432x288 with 2 Axes>"
      ]
     },
     "metadata": {
      "needs_background": "light"
     },
     "output_type": "display_data"
    }
   ],
   "source": [
    "ax = sns.heatmap(pivot, linewidths=0.5, annot=True) # разделим значения белыми линиями и добавим аннотацию\n",
    "ax.set_title('Зависимость кол-ва продаж от группы и цены тура', fontdict={'size': 14})"
   ]
  },
  {
   "cell_type": "markdown",
   "id": "6d13fd45-e3df-468f-9d32-1fc45d38b10c",
   "metadata": {},
   "source": [
    "Напомним, какие данные по стоимости туров у нас имеются:\n",
    "* Таиланд — 100000 рублей;\n",
    "* Турция — 60000 рублей;\n",
    "* Мальдивы — 200000 рублей;\n",
    "* Санкт-Петербург — 10000 рублей;\n",
    "* Камчатка — 150000 рублей.\n",
    "\n",
    "Группа А: самыми популярными направлениями оказались Петербург (10 тыс руб) и Турция (60 тыс руб). Далее идёт Камчатка (150 тыс руб). На третьем месте Таиланд (100 тыс руб) и Мальдивы (200 тыс руб).\n",
    "\n",
    "Группа В: Наиболее популярны Петербург и Таиланд (10 тыс и 100 тыс соответственно), далее Камчатка, на третьем месте Мальдивы и Турция.\n",
    "\n",
    "**Нельзя сказать, что есть однозначная зависимость между ценой тура и кол-вом покупок. Это справедливо для обеих групп.**\n",
    "\n",
    "*Если сравнивать группы между собой, видим, что по турам в Петербург, Мальдивы и Камчатку покупательская способность примерно одинаковая. При этом путешественники из группы А предпочли Турцию Таиланду (5.2 тыс vs 1.8 тыс). Путешественники из группы В - наоборот (1.7 тыс vs 5.2 тыс). На тепловой это отчётливо видно, цвета \"меняются местами\" для соответствующих значений цены.*"
   ]
  },
  {
   "cell_type": "markdown",
   "id": "8f021fb4-d0f6-4e43-b518-1a96c07a4531",
   "metadata": {
    "tags": []
   },
   "source": [
    "## Поведение кумулятивных метрик во времени"
   ]
  },
  {
   "cell_type": "code",
   "execution_count": 15,
   "id": "4503b528-412e-433a-bc03-da7da52fa1a3",
   "metadata": {},
   "outputs": [],
   "source": [
    "# группировка данных по датам и группам, вычисление дневных значений\n",
    "data_daily = updated_data.groupby(['date', 'group'], as_index=False).agg(count_visits=('group', 'count'), # количество посещений\n",
    "                                                                         count_purchases=('purchase', 'sum'), # количество покупок\n",
    "                                                                         sum_price=('price', 'sum')) # сумма покупок)\n",
    "\n",
    "\n",
    "# конверсия\n",
    "data_daily['conversion'] = data_daily['count_purchases']/data_daily['count_visits']*100\n",
    "data_daily['conversion'] = data_daily['conversion'].apply(lambda x: round(x, 2))\n",
    "\n",
    "# средний чек\n",
    "data_daily['mean_check'] = data_daily['sum_price']/data_daily['count_purchases']"
   ]
  },
  {
   "cell_type": "code",
   "execution_count": 16,
   "id": "afe59f9a-8d39-45c1-a14f-9f62091d81a1",
   "metadata": {},
   "outputs": [
    {
     "data": {
      "text/html": [
       "<div>\n",
       "<style scoped>\n",
       "    .dataframe tbody tr th:only-of-type {\n",
       "        vertical-align: middle;\n",
       "    }\n",
       "\n",
       "    .dataframe tbody tr th {\n",
       "        vertical-align: top;\n",
       "    }\n",
       "\n",
       "    .dataframe thead th {\n",
       "        text-align: right;\n",
       "    }\n",
       "</style>\n",
       "<table border=\"1\" class=\"dataframe\">\n",
       "  <thead>\n",
       "    <tr style=\"text-align: right;\">\n",
       "      <th></th>\n",
       "      <th>date</th>\n",
       "      <th>group</th>\n",
       "      <th>count_visits</th>\n",
       "      <th>count_purchases</th>\n",
       "      <th>sum_price</th>\n",
       "      <th>conversion</th>\n",
       "      <th>mean_check</th>\n",
       "      <th>cum_visits</th>\n",
       "      <th>cum_purchases</th>\n",
       "      <th>cum_price</th>\n",
       "      <th>cum_conversion</th>\n",
       "      <th>cum_check</th>\n",
       "    </tr>\n",
       "  </thead>\n",
       "  <tbody>\n",
       "    <tr>\n",
       "      <th>20</th>\n",
       "      <td>2021-01-12</td>\n",
       "      <td>A</td>\n",
       "      <td>6540</td>\n",
       "      <td>795</td>\n",
       "      <td>68460000</td>\n",
       "      <td>12.16</td>\n",
       "      <td>86113.207547</td>\n",
       "      <td>68852</td>\n",
       "      <td>8198</td>\n",
       "      <td>668070000</td>\n",
       "      <td>11.91</td>\n",
       "      <td>81491.827275</td>\n",
       "    </tr>\n",
       "    <tr>\n",
       "      <th>21</th>\n",
       "      <td>2021-01-12</td>\n",
       "      <td>B</td>\n",
       "      <td>6635</td>\n",
       "      <td>807</td>\n",
       "      <td>70560000</td>\n",
       "      <td>12.16</td>\n",
       "      <td>87434.944238</td>\n",
       "      <td>69251</td>\n",
       "      <td>8236</td>\n",
       "      <td>727670000</td>\n",
       "      <td>11.89</td>\n",
       "      <td>88352.355512</td>\n",
       "    </tr>\n",
       "  </tbody>\n",
       "</table>\n",
       "</div>"
      ],
      "text/plain": [
       "         date group  count_visits  count_purchases  sum_price  conversion  \\\n",
       "20 2021-01-12     A          6540              795   68460000       12.16   \n",
       "21 2021-01-12     B          6635              807   70560000       12.16   \n",
       "\n",
       "      mean_check  cum_visits  cum_purchases  cum_price  cum_conversion  \\\n",
       "20  86113.207547       68852           8198  668070000           11.91   \n",
       "21  87434.944238       69251           8236  727670000           11.89   \n",
       "\n",
       "       cum_check  \n",
       "20  81491.827275  \n",
       "21  88352.355512  "
      ]
     },
     "execution_count": 16,
     "metadata": {},
     "output_type": "execute_result"
    }
   ],
   "source": [
    "# кумулятивное кол-во посещений\n",
    "data_daily['cum_visits'] = data_daily.groupby(['group'])['count_visits'].cumsum()\n",
    "\n",
    "# кумулятивное кол-во покупок\n",
    "data_daily['cum_purchases'] = data_daily.groupby(['group'])['count_purchases'].cumsum()\n",
    "\n",
    "# кумулятивная сумма покупок\n",
    "data_daily['cum_price'] = data_daily.groupby(['group'])['sum_price'].cumsum()\n",
    "\n",
    "# кумулятивная конверсия\n",
    "data_daily['cum_conversion'] = data_daily['cum_purchases']/data_daily['cum_visits']*100\n",
    "data_daily['cum_conversion'] = data_daily['cum_conversion'].apply(lambda x: round(x, 2))\n",
    "\n",
    "# кумулятивный средний чек\n",
    "data_daily['cum_check'] = data_daily['cum_price']/data_daily['cum_purchases']\n",
    "\n",
    "data_daily[data_daily['date'] == '2021-01-12']"
   ]
  },
  {
   "cell_type": "markdown",
   "id": "c252b8ba-371b-4795-8fc3-a62317e9ba39",
   "metadata": {},
   "source": [
    "## Визуализация данных по кумулятивным метрикам"
   ]
  },
  {
   "cell_type": "code",
   "execution_count": 18,
   "id": "27e23d20-7ed6-4a26-973d-6d0320b81adb",
   "metadata": {},
   "outputs": [
    {
     "data": {
      "text/plain": [
       "Text(0.5, 1.0, 'Кумулятивная конверсия')"
      ]
     },
     "execution_count": 18,
     "metadata": {},
     "output_type": "execute_result"
    },
    {
     "data": {
      "image/png": "[encoded data removed]",
      "text/plain": [
       "<Figure size 864x288 with 1 Axes>"
      ]
     },
     "metadata": {},
     "output_type": "display_data"
    }
   ],
   "source": [
    "sns.set_theme()\n",
    "\n",
    "# кумулятивная конверсия\n",
    "fig, axes = plt.subplots(figsize=(12, 4))\n",
    "\n",
    "#графики для каждой группы\n",
    "sns.lineplot(data=data_daily, x='date', y='cum_conversion', hue='group', ax=axes)\n",
    "\n",
    "#задаём название графику\n",
    "axes.set_title('Кумулятивная конверсия')"
   ]
  },
  {
   "cell_type": "code",
   "execution_count": 19,
   "id": "3d7f23de",
   "metadata": {},
   "outputs": [
    {
     "data": {
      "text/plain": [
       "Text(0.5, 1.0, 'Кумулятивный средний чек')"
      ]
     },
     "execution_count": 19,
     "metadata": {},
     "output_type": "execute_result"
    },
    {
     "data": {
      "image/png": "[encoded data removed]",
      "text/plain": [
       "<Figure size 864x288 with 1 Axes>"
      ]
     },
     "metadata": {},
     "output_type": "display_data"
    }
   ],
   "source": [
    "# кумулятивный средний чек\n",
    "fig, axes = plt.subplots(figsize=(12, 4))\n",
    "\n",
    "#графики для каждой группы\n",
    "sns.lineplot(data=data_daily, x='date', y='cum_check', hue='group', ax=axes)\n",
    "\n",
    "#задаём название графику\n",
    "axes.set_title('Кумулятивный средний чек')"
   ]
  },
  {
   "cell_type": "markdown",
   "id": "f645f8e5-ad16-4b3b-8228-fbdeeb286833",
   "metadata": {},
   "source": [
    "*Значения кумулятивной конверсии стабилизированись примерно после 2021-01-17 в обеих группах. При этом конверсия в группе А стабильно выше конверсии в группе В (за исключением двух дней 10-11 января 2021.*\n",
    "\n",
    "*В начале тестирования разница между конверсиями двух групп была 0.4 - 0.6 п.п., затем сократилась до 0 на пару дней, и затем стабилизировалась на уровне чуть меньше 0.2 п.п.*\n",
    "\n",
    "*Значения среднего чека в обеих группах стабилизировались примерно после 11 января: для группы А на уровне 88 - 89 тыс руб, для группы В - 81 - 82 тыс руб. При этом средний чек в группе В стабильно выше, и разница выросла к середине периода тестирования.*\n",
    "\n",
    "**Можно считать A/B тестирование завершённым.**"
   ]
  },
  {
   "cell_type": "markdown",
   "id": "2ecaa382-56e2-47f4-b086-24b4742570a3",
   "metadata": {
    "tags": []
   },
   "source": [
    "## Проверка статистической значимости разницы между метриками в группах"
   ]
  },
  {
   "cell_type": "code",
   "execution_count": 20,
   "id": "7efda8fb",
   "metadata": {},
   "outputs": [
    {
     "data": {
      "text/html": [
       "<div>\n",
       "<style scoped>\n",
       "    .dataframe tbody tr th:only-of-type {\n",
       "        vertical-align: middle;\n",
       "    }\n",
       "\n",
       "    .dataframe tbody tr th {\n",
       "        vertical-align: top;\n",
       "    }\n",
       "\n",
       "    .dataframe thead th {\n",
       "        text-align: right;\n",
       "    }\n",
       "</style>\n",
       "<table border=\"1\" class=\"dataframe\">\n",
       "  <thead>\n",
       "    <tr style=\"text-align: right;\">\n",
       "      <th></th>\n",
       "      <th>group</th>\n",
       "      <th>count_visits</th>\n",
       "      <th>count_purchases</th>\n",
       "      <th>sum_price</th>\n",
       "      <th>conversion</th>\n",
       "      <th>mean_check</th>\n",
       "    </tr>\n",
       "  </thead>\n",
       "  <tbody>\n",
       "    <tr>\n",
       "      <th>0</th>\n",
       "      <td>A</td>\n",
       "      <td>145307</td>\n",
       "      <td>17487</td>\n",
       "      <td>1417780000</td>\n",
       "      <td>12.03</td>\n",
       "      <td>8.107623e+06</td>\n",
       "    </tr>\n",
       "    <tr>\n",
       "      <th>1</th>\n",
       "      <td>B</td>\n",
       "      <td>145381</td>\n",
       "      <td>17290</td>\n",
       "      <td>1533010000</td>\n",
       "      <td>11.89</td>\n",
       "      <td>8.866455e+06</td>\n",
       "    </tr>\n",
       "  </tbody>\n",
       "</table>\n",
       "</div>"
      ],
      "text/plain": [
       "  group  count_visits  count_purchases   sum_price  conversion    mean_check\n",
       "0     A        145307            17487  1417780000       12.03  8.107623e+06\n",
       "1     B        145381            17290  1533010000       11.89  8.866455e+06"
      ]
     },
     "execution_count": 20,
     "metadata": {},
     "output_type": "execute_result"
    }
   ],
   "source": [
    "# обратимся к данным по каждой группе, подготовленным выше\n",
    "data_grouped"
   ]
  },
  {
   "cell_type": "code",
   "execution_count": 21,
   "id": "9dd1f6fd-2fa0-4a2f-8181-dbed4c302bce",
   "metadata": {},
   "outputs": [
    {
     "name": "stdout",
     "output_type": "stream",
     "text": [
      "p-value:  0.12\n",
      "Принимаем нулевую гипотезу. Конверсии в группах А и B равны\n"
     ]
    }
   ],
   "source": [
    "# для подтверждения статистической разницы между конверсиями в двух группах применим z-тест для пропорций\n",
    "\n",
    "# нулевая и альтернативная гипотезы\n",
    "H0 = 'Конверсии в группах А и B равны'\n",
    "H1 = 'Конверсия в группе А выше, чем конверсия в группе B'\n",
    "alpha = 0.05 # уровень значимости\n",
    "\n",
    "# вычисляем значение p-value для z-теста для пропорций\n",
    "_, p_value = proportions_ztest(count=data_grouped['count_purchases'], # число \"успехов\"\n",
    "                               nobs=data_grouped['count_visits'], # общее число наблюдений\n",
    "                               alternative='larger')\n",
    "\n",
    "# выводим результат на экран\n",
    "print('p-value: ', round(p_value, 2))\n",
    "\n",
    "# сравниваем полученное p-value с уровнем значимости\n",
    "if (p_value < alpha): \n",
    "    print(\"Отвергаем нулевую гипотезу. {}\".format(H0))\n",
    "    print(\"Альтернативная гипотеза. H1: {}\".format(H1))\n",
    "else:\n",
    "    print(\"Принимаем нулевую гипотезу. {}\".format(H0)) "
   ]
  },
  {
   "cell_type": "markdown",
   "id": "75dddb06-389d-4d65-92c7-425efa28e51a",
   "metadata": {},
   "source": [
    "Наш тест не обнаружил статистической разницы между конверсиями в группах А и В."
   ]
  },
  {
   "cell_type": "markdown",
   "id": "32c5a1af-8cb2-4f3c-a126-410b70fb3ff3",
   "metadata": {
    "tags": []
   },
   "source": [
    "Убедимся в своих рассуждениях, построив 95%-ый доверительный интервал для конверсий и разницы между ними. Используем $z_{крит}$ в своих расчетах"
   ]
  },
  {
   "cell_type": "code",
   "execution_count": 22,
   "id": "e9decb7d-ff5e-40a6-8b71-63627c4ef64a",
   "metadata": {},
   "outputs": [
    {
     "name": "stdout",
     "output_type": "stream",
     "text": [
      "Доверительный интервал для конверсии группы А: (11.87, 12.21)\n",
      "Доверительный интервал для конверсии группы B: (11.73, 12.06)\n"
     ]
    }
   ],
   "source": [
    "# доверительный интервал для конверсии\n",
    "\n",
    "def proportions_conf_interval(n, x_p, gamma=0.95):   \n",
    "    alpha = 1 - gamma # уровень значимости\n",
    "    z_crit = -norm.ppf(alpha/2) # z критическое\n",
    "    eps = z_crit * (x_p * (1 - x_p) / n) ** 0.5 #погрешность\n",
    "    lower_bound = x_p - eps # левая (нижняя) граница\n",
    "    upper_bound = x_p + eps # правая (верхняя) граница\n",
    "    # возвращаем кортеж из округлённых границ интервала\n",
    "    return round(lower_bound * 100, 2), round(upper_bound * 100, 2)\n",
    "\n",
    "\n",
    "#фильтруем данные группы А\n",
    "a_data = data[data['group'] == 'A']\n",
    "#фильтруем данные группы B\n",
    "b_data = data[data['group'] == 'B']\n",
    "\n",
    "conf_interval_a = proportions_conf_interval(n=a_data['user_id'].count(), # размер выборки\n",
    "                                            x_p=a_data['purchase'].mean() # выборочная пропорция\n",
    "                                            )\n",
    "conf_interval_b = proportions_conf_interval(n=b_data['user_id'].count(), # размер выборки\n",
    "                                            x_p=b_data['purchase'].mean() # выборочная пропорция\n",
    "                                            )\n",
    "\n",
    "print('Доверительный интервал для конверсии группы А: {}'.format(conf_interval_a))\n",
    "print('Доверительный интервал для конверсии группы B: {}'.format(conf_interval_b))"
   ]
  },
  {
   "cell_type": "code",
   "execution_count": 23,
   "id": "56942c5a",
   "metadata": {},
   "outputs": [
    {
     "name": "stdout",
     "output_type": "stream",
     "text": [
      "Доверительный интервал для разности конверсий: (-0.38, 0.09)\n"
     ]
    }
   ],
   "source": [
    "# доверительный интервал для разницы конверсий\n",
    "\n",
    "def diff_proportions_conf_interval(n, xp, gamma=0.95):\n",
    "    alpha = 1 - gamma # уровень значимости\n",
    "    diff = xp[1] - xp[0] # выборочная разница конверсий групп B и A\n",
    "    z_crit = -norm.ppf(alpha/2) # z критическое\n",
    "    eps = z_crit * (xp[0] * (1 - xp[0])/n[0] + xp[1] * (1 - xp[1])/n[1]) ** 0.5 # погрешность\n",
    "    lower_bound = diff - eps # левая (нижняя) граница\n",
    "    upper_bound = diff + eps # правая (верхняя) граница\n",
    "    # возвращаем кортеж из округлённых границ интервала\n",
    "    return round(lower_bound *100, 2), round(upper_bound * 100, 2)\n",
    "\n",
    "\n",
    "# размеры выборок групп А и B\n",
    "n = [a_data['user_id'].count(), b_data['user_id'].count()]\n",
    "# выборочная пропорция групп A и B\n",
    "xp = [a_data['purchase'].mean(), b_data['purchase'].mean()]\n",
    "\n",
    "# строим доверительный интервал для разности конверсий\n",
    "diff_inverval = diff_proportions_conf_interval(n, xp)\n",
    "\n",
    "print('Доверительный интервал для разности конверсий: {}'.format(diff_inverval))"
   ]
  },
  {
   "cell_type": "markdown",
   "id": "b0cb4732",
   "metadata": {},
   "source": [
    "95%-ые доверительные интервалы для группы А и группы В пересекаются. Истинные значения конверсии, которые нас интересуют, могут попасть в зону пересечения. \n",
    "\n",
    "**То есть мы не можем однозначно сказать, есть ли разница в конверсиях. Такой результат согласуется с результатом проведённого выше z-теста.**\n",
    "\n",
    "Истинное значение разницы между конверсиями группы А и группы А может быть как положительным, так и отрицательным (левая и правая границы доверительного интервала имеют разные знаки). "
   ]
  },
  {
   "cell_type": "markdown",
   "id": "73c54883-b919-4889-bbf2-e1bdeb0b7055",
   "metadata": {},
   "source": [
    "Для проверки стат. разницы между размерами средних чеков сначала выясним, имеют ли наши данные нормальное распределение. Это повлияет на выбор теста.\n",
    "\n",
    "Для проверки гипотезы о нормальности распределения средних чеков применим тест Шапиро-Уилка, т.к. имеем дело с количественными данными"
   ]
  },
  {
   "cell_type": "code",
   "execution_count": 24,
   "id": "898041ae-de7e-4b74-975e-111d494fbb82",
   "metadata": {},
   "outputs": [
    {
     "name": "stdout",
     "output_type": "stream",
     "text": [
      "p(group A)=0.253\n",
      "p(group B)=0.094\n"
     ]
    }
   ],
   "source": [
    "# Определим гипотезы и уровень значимости\n",
    "H0 = 'Данные распределены нормально'\n",
    "Ha = 'Данные не распределены нормально (отвергаем H0)'\n",
    "\n",
    "alpha = 0.05\n",
    "\n",
    "# Подготовка данных о среднем чеке\n",
    "shapiro_a = data_daily[data_daily['group'] == 'A']['mean_check']\n",
    "shapiro_b = data_daily[data_daily['group'] == 'B']['mean_check']\n",
    "\n",
    "# Тест\n",
    "w_a, p_a = shapiro(shapiro_a)\n",
    "print('p(group A)=%.3f' % p_a)\n",
    "\n",
    "w_b, p_b = shapiro(shapiro_b)\n",
    "print('p(group B)=%.3f' % p_b)\n"
   ]
  },
  {
   "cell_type": "markdown",
   "id": "90979d0b",
   "metadata": {},
   "source": [
    "В обоих случаях полученное значение p (вероятность принять ошибочное решение, отвергнув нулевую гипотезу), больше уровня стат. значимости 0.05.\n",
    "\n",
    "**Принимаем нулевую гипотезу о нормальности распределения среднего чека в обоих группах.**"
   ]
  },
  {
   "cell_type": "markdown",
   "id": "cbddecf9-4d15-4ff1-84e9-46c4d98fc1e0",
   "metadata": {
    "tags": []
   },
   "source": [
    "Сравним варианты дизайна страницы по метрике среднего чека. \n",
    "\n",
    "Имеем данные за 23 дня для каждой группы - размер выборки меньше 30, данные числовые, непрерывные, нормально распределены.\n",
    "Данные сравниваются по одному и тому же параметру.\n",
    "Для проверки гипотезы о равенстве средних чеков в двух группах будем использовать T-тест."
   ]
  },
  {
   "cell_type": "code",
   "execution_count": 25,
   "id": "05d43f23-2c2d-4795-bb96-1ffbfe81c391",
   "metadata": {},
   "outputs": [
    {
     "name": "stdout",
     "output_type": "stream",
     "text": [
      "0.0 <= 0.05. Отвергаем нулевую гипотезу. Ежедневный средний чек в группе А меньше чем в группе B\n"
     ]
    }
   ],
   "source": [
    "# Определим гипотезы и уровень значимости\n",
    "H0 = 'Ежедневные средние чеки в группах А и B равны'\n",
    "Ha = 'Ежедневный средний чек в группе А меньше чем в группе B'\n",
    "\n",
    "aplpha = 0.05\n",
    "\n",
    "# Тест\n",
    "st_t, p = ttest_ind(shapiro_a, shapiro_b, equal_var=True)\n",
    "\n",
    "# Интерпретация\n",
    "p = round(p,5)\n",
    "\n",
    "if p>alpha:\n",
    "    print(f\"{p} > {alpha}. Не можем отвергнуть нулевую гипотезу. {H0}\")\n",
    "else:\n",
    "    print(f\"{p} <= {alpha}. Отвергаем нулевую гипотезу. {Ha}\")\n"
   ]
  },
  {
   "cell_type": "markdown",
   "id": "42d04d35",
   "metadata": {},
   "source": [
    "Если мы отвергнем нулевую гипотезу, вероятность ошибки будет равна 0 с точностью до 5 знаков после запятой.\n",
    "\n",
    "Поэтому отвергаем эту гипотезу и принимаем альтернативную - **есть статистическая разница в средних чеках двух групп, средний чек в группе А меньше, чем в группе В.**"
   ]
  },
  {
   "cell_type": "code",
   "execution_count": 27,
   "id": "480430db-ffae-4aad-8e22-f5c70d4800b8",
   "metadata": {},
   "outputs": [
    {
     "name": "stdout",
     "output_type": "stream",
     "text": [
      "Доверительный интервал для среднего чека гр. А: (79630, 82308)\n",
      "Доверительный интервал для среднего чека гр. B: (87626, 89526)\n"
     ]
    }
   ],
   "source": [
    "# 95%-ые доверительные интервалы для средних чеков обеих групп\n",
    "\n",
    "def mean_conf_interval(n, x_mean, x_std, gamma=0.95):\n",
    "    k = n - 1 # число степеней свободы\n",
    "    alpha = 1 - gamma # уровень значимости\n",
    "\n",
    "    t_crit = -t.ppf(alpha/2, k) # табличное значение t-критическое\n",
    "    eps = t_crit * x_std/(n**0.5) # погрешность\n",
    "    lower_bound = x_mean - eps # нижняя граница интервала\n",
    "    upper_bound = x_mean + eps  # верхняя граница интервала\n",
    "    confidence_interval = (round(lower_bound), round(upper_bound))\n",
    "    return confidence_interval\n",
    "\n",
    "\n",
    "n = data_daily.shape[0]/2 # размер выборки\n",
    "\n",
    "# Группа А\n",
    "x_mean = shapiro_a.mean() # выборочное среднее\n",
    "x_std = shapiro_a.std() # выборочное стандартное отклонение\n",
    "conf_int = mean_conf_interval(n, x_mean, x_std)\n",
    "print('Доверительный интервал для среднего чека гр. А: {}'.format(conf_int)) # выводим результат\n",
    "\n",
    "# Группа B\n",
    "x_mean = shapiro_b.mean() # выборочное среднее\n",
    "x_std = shapiro_b.std() # выборочное стандартное отклонение\n",
    "conf_int = mean_conf_interval(n, x_mean, x_std)\n",
    "print('Доверительный интервал для среднего чека гр. B: {}'.format(conf_int)) # выводим результат"
   ]
  },
  {
   "cell_type": "markdown",
   "id": "40ff290f",
   "metadata": {},
   "source": [
    "Доверительные интервалы не пересекаются. **С вероятностью 95%** истинные значения средних чеков обеих групп лежат в соответствующих доверительных интервалах, **и между этими значениями существует статистически значимая разница.**"
   ]
  },
  {
   "cell_type": "markdown",
   "id": "c078852f-892f-42ed-8d78-73edf8eb1f5e",
   "metadata": {
    "tags": []
   },
   "source": [
    "## Общий вывод по результатам AB теста\n",
    "\n",
    "Был проведён AB тест на выборке достаточного размера для двух групп. \n",
    "\n",
    "Сравнивалась эффективность двух вариантов посадочной страницы по двум параметрам: конверсия и средний чек.\n",
    "\n",
    "Результаты теста показали, что нет статистической разницы между конверсией в двух группах, но есть разница в размерах среднего чека - средний чек в группе В выше.\n",
    "\n",
    "**Таким образом, вариант дизайна страницы В в целом выглядит эффективнее.**"
   ]
  }
 ],
 "metadata": {
  "kernelspec": {
   "display_name": "Python 3 (ipykernel)",
   "language": "python",
   "name": "python3"
  },
  "language_info": {
   "codemirror_mode": {
    "name": "ipython",
    "version": 3
   },
   "file_extension": ".py",
   "mimetype": "text/x-python",
   "name": "python",
   "nbconvert_exporter": "python",
   "pygments_lexer": "ipython3",
   "version": "3.8.12"
  }
 },
 "nbformat": 4,
 "nbformat_minor": 5
}
