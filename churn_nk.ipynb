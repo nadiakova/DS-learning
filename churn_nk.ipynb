{
 "cells": [
  {
   "cell_type": "code",
   "execution_count": 2,
   "metadata": {},
   "outputs": [],
   "source": [
    "import pandas as pd\n",
    "import seaborn as sns\n",
    "import matplotlib.pyplot as plt\n",
    "import plotly.express as px\n",
    "\n",
    "churn_data = pd.read_csv('data/churn.csv')\n",
    "#churn_data.info()"
   ]
  },
  {
   "cell_type": "code",
   "execution_count": 3,
   "metadata": {},
   "outputs": [
    {
     "data": {
      "image/png": "[encoded data removed]",
      "text/plain": [
       "<Figure size 360x360 with 1 Axes>"
      ]
     },
     "metadata": {},
     "output_type": "display_data"
    }
   ],
   "source": [
    "#9.1. Каково соотношение ушедших и лояльных клиентов? Покажите это на графике и дайте комментарий по соотношению.\n",
    "grouped_by_exit = churn_data.groupby(['Exited'])['RowNumber'].count()\n",
    "#print(grouped_by_exit)\n",
    "\n",
    "labels = ['Лояльные', 'Ушедшие']\n",
    "colors = sns.color_palette('muted')[0:5]\n",
    "\n",
    "plt.figure(figsize=(5,5), facecolor='white')\n",
    "plt.title('Соотношение числа лояльных и ушедших клиентов', size = 15)\n",
    "plt.pie(grouped_by_exit, explode = [0.1, 0], labels = labels, colors = colors, autopct='%.0f%%')\n",
    "plt.show()\n"
   ]
  },
  {
   "cell_type": "markdown",
   "metadata": {},
   "source": [
    "Один клиент из пяти прекращает сотрудничество с банком"
   ]
  },
  {
   "cell_type": "code",
   "execution_count": 18,
   "metadata": {},
   "outputs": [],
   "source": [
    "#9.2. Постройте график, показывающий распределение баланса пользователей, у которых на счету больше 2 500 долларов. Опишите распределение и сделайте выводы.\n",
    "\n",
    "filtered_by_balance = churn_data[churn_data['Balance'] > 2500]\n",
    "\n",
    "fig = px.histogram(\n",
    "    data_frame=filtered_by_balance, \n",
    "    x='Balance', #ось абсцисс\n",
    "    height=500, #высота\n",
    "    width=700, #ширина\n",
    "    title='Распределение баланса клиентов с остатками на счетах более 2500 долл', #заголовок,\n",
    "    nbins=25\n",
    ")\n",
    "fig.write_image('data/img1.png')\n",
    "#fig.show()\n"
   ]
  },
  {
   "cell_type": "markdown",
   "metadata": {},
   "source": [
    "![title](data/img1.png)"
   ]
  },
  {
   "cell_type": "markdown",
   "metadata": {},
   "source": [
    "Наибольшее число клиентов банка имеют остатки на счетах между 100 и 150 тыс долл.\n",
    "Количество счетов с остатками более 200 тыс долл или менее 10 тыс долл очень мало."
   ]
  },
  {
   "cell_type": "code",
   "execution_count": 19,
   "metadata": {},
   "outputs": [],
   "source": [
    "#9.3. Посмотрите на распределение баланса клиента в разрезе признака оттока. Как различаются суммы на накопительном счёте ушедших и лояльных клиентов? \n",
    "# Подумайте и напишите, с чем это может быть связано, что может не устраивать ушедших клиентов в банке.\n",
    "\n",
    "fig = px.histogram(\n",
    "    data_frame=churn_data, \n",
    "    x='Balance', #ось абсцисс\n",
    "    color='Exited',\n",
    "    height=500, #высота\n",
    "    width=700, #ширина\n",
    "    histfunc='count',\n",
    "    title='Распределение баланса клиентов: 1 - ушедших, 0 - лояльных', \n",
    "    nbins = 25\n",
    ")\n",
    "fig.write_image('data/img2.png')\n",
    "#fig.show()\n"
   ]
  },
  {
   "cell_type": "markdown",
   "metadata": {},
   "source": [
    "![title](data/img2.png)"
   ]
  },
  {
   "cell_type": "markdown",
   "metadata": {},
   "source": [
    "Распределение балансов для ушедших клиентов (exited = 1) и лояльных (exited = 0) имеет одинаковый вид.\n",
    "Видим большое количество счетов с нулевым балансом, в том числе среди действующих клиентов. В файле 10 тыс записей, из них третья часть (3.5 тыс) - нулевые остатки.\n",
    "\n",
    "Для счетов с ненулевым балансом распределение имеет вид нормального, большая часть счетов имеет остатки от 100 до 150 тыс. Значений, близких к максимуму и минимуму, гораздо меньше, чем средних.\n",
    "\n",
    "Я бы предложила банку пересмотреть условия для действующих клиентов (например процент, который начисляется на средний остаток по счёту за месяц), мотивировать их хранить деньги на счету, чтобы баланс всегда поддерживался выше нуля.\n",
    "\n",
    "Также по виду распределения ненулевых остатков можно заметить, что клиенты уходят из банка независимо от того, какая сумма у них хранится на счёте. Возможно имеет смысл поработать с состоятельными клиентами, у которых остаток на счёте равен среднему и выше, чтобы удержать таких людей, предложить более выгодные условия."
   ]
  },
  {
   "cell_type": "code",
   "execution_count": 34,
   "metadata": {},
   "outputs": [],
   "source": [
    "#9.4. Посмотрите на распределение возраста в разрезе признака оттока. В какой группе больше потенциальных выбросов? \n",
    "# На какую возрастную категорию клиентов стоит обратить внимание банку?\n",
    "fig1 = px.histogram(\n",
    "    data_frame=churn_data, \n",
    "    x='Age', #ось абсцисс\n",
    "    color='Exited',\n",
    "    height=500, #высота\n",
    "    width=700, #ширина\n",
    "    histfunc='count',\n",
    "    title='Распределение возраста клиентов: 1 - ушедшие, 0 - лояльные', \n",
    "    nbins = 25\n",
    ")\n",
    "fig1.write_image('data/image3.png')\n",
    "#fig1.show()\n",
    "\n",
    "fig2 = px.box(\n",
    "    data_frame=churn_data,\n",
    "    x='Age', #ось абсцисс\n",
    "    color='Exited',\n",
    "    height=500, #высота\n",
    "    width=700, #ширина\n",
    "    title='Распределение возраста клиентов: 1 - ушедшие, 0 - лояльные', \n",
    ")\n",
    "fig2.write_image('data/image4.png')\n",
    "#fig2.show()"
   ]
  },
  {
   "cell_type": "markdown",
   "metadata": {},
   "source": [
    "![title](data/image4.png)"
   ]
  },
  {
   "cell_type": "markdown",
   "metadata": {},
   "source": [
    "Наибольшее количество лояльных клиентов имеет возраст 30-40 лет. Наибольшее количество ушедших - возраст 40-50 лет.\n",
    "Я бы предложила банку поработать с условиями для людей, которые уходят чаще всего. 40-50 лет - обычно возраст, когда люди активно работают и приумножают свои накопления.\n",
    "Много пожилых клиентов, остающихся с банком, вполне возможно, независимо от условий (коробчатая диаграмма показывает большое количество выбросов для красной фигуры)."
   ]
  },
  {
   "cell_type": "code",
   "execution_count": 27,
   "metadata": {},
   "outputs": [],
   "source": [
    "#9.5. Постройте график, который показывает взаимосвязь кредитного рейтинга клиента и его предполагаемой зарплаты. \n",
    "#Добавьте расцветку по признаку оттока клиентов. Какова взаимосвязь между признаками? Если не видите явной взаимосвязи, укажите это.\n",
    "\n",
    "fig = px.scatter(\n",
    "    data_frame=churn_data,\n",
    "    x='EstimatedSalary', \n",
    "    y='CreditScore',\n",
    "    color='Exited',\n",
    "    height=500, #высота\n",
    "    width=700, #ширина\n",
    "    title='Взаимосвязь кредитного рейтинга и предполагаемой зарплаты', \n",
    ")\n",
    "fig.write_image('data/img5.png')\n",
    "#fig.show()"
   ]
  },
  {
   "cell_type": "markdown",
   "metadata": {},
   "source": [
    "![title](data/img5.png)"
   ]
  },
  {
   "cell_type": "markdown",
   "metadata": {},
   "source": [
    "График выглядит хаотично и не показывает никаких зависимостей.\n",
    "Мы видим, что человек с любой зарплатой в представленном диапазоне может иметь любой кредитный рейтинг, и это справедливо как для ушедших клиентов, так и для лояльных."
   ]
  },
  {
   "cell_type": "code",
   "execution_count": 28,
   "metadata": {},
   "outputs": [],
   "source": [
    "#9.6. Кто чаще уходит, мужчины или женщины? Постройте график, который иллюстрирует это.\n",
    "#Процент ушедших клиентов в каждой группе можно рассчитать как среднее по столбцу Exited\n",
    "#(так как 1 — это ушедшие клиенты, а 0 — лояльные, среднее арифметическое по столбцу обозначает долю ушедших клиентов).\n",
    "\n",
    "grouped_by_gender = churn_data.groupby(['Gender'])['Exited'].mean()\n",
    "#print(grouped_by_gender)\n",
    "\n",
    "fig = px.bar(\n",
    "    data_frame=grouped_by_gender,\n",
    "    x=grouped_by_gender.index,\n",
    "    y='Exited',\n",
    "    height=500, #высота\n",
    "    width=700, #ширина\n",
    "    title='Доли ушедших клиентов в разрезе пола'\n",
    ")\n",
    "fig.write_image('data/img6.png')\n",
    "#fig.show()"
   ]
  },
  {
   "cell_type": "markdown",
   "metadata": {},
   "source": [
    "![title](data/img6.png)"
   ]
  },
  {
   "cell_type": "markdown",
   "metadata": {},
   "source": [
    "Клиенты - женщины чаще прекращают сотрудничество с банком, чем мужчины (25% женщин - клиентов имеют статус \"ушедший\" против 15% клиентов - мужчин)."
   ]
  },
  {
   "cell_type": "code",
   "execution_count": 29,
   "metadata": {},
   "outputs": [],
   "source": [
    "#9.7. Как отток клиентов зависит от числа приобретённых у банка услуг? Для ответа на этот вопрос постройте многоуровневую столбчатую диаграмму.\n",
    "\n",
    "churn_data['Loyal'] = 1 - churn_data['Exited']\n",
    "grouped_by_exit = churn_data.groupby(['NumOfProducts'])[['Exited', 'Loyal']].sum()\n",
    "#print(grouped_by_exit)\n",
    "\n",
    "fig = px.bar(\n",
    "    data_frame=grouped_by_exit,\n",
    "    x=grouped_by_exit.index,\n",
    "    y=['Exited', 'Loyal'],\n",
    "    height=500, #высота\n",
    "    width=700, #ширина\n",
    "    title='Взаимосвязь оттока клиентов и числа приобретённых услуг'\n",
    ")\n",
    "fig.write_image('data/img7.png')\n",
    "#fig.show()\n"
   ]
  },
  {
   "cell_type": "markdown",
   "metadata": {},
   "source": [
    "![title](data/img7.png)"
   ]
  },
  {
   "cell_type": "markdown",
   "metadata": {},
   "source": [
    "Подавляющее большинство ушедших клиентов имело только один вид приобретённых в банке услуг (1409 чел.)\n",
    "Особенно заметна разница в количестве клиентов, приобретавших 1 или 2 услуги (1409 и 348 чел соответстенно). Далее отток клиентов снижается, но не так заметно.\n",
    "\n",
    "При этом из клиентов, приобретавших 3 и более продукта, практически все прекратили сотрудничество с банком.\n",
    "\n",
    "Наибольшее количество текущих клиентов имеет 2 доступных услуги."
   ]
  },
  {
   "cell_type": "code",
   "execution_count": 30,
   "metadata": {},
   "outputs": [
    {
     "name": "stderr",
     "output_type": "stream",
     "text": [
      "C:\\Users\\Dell\\AppData\\Local\\Temp/ipykernel_5880/1912325058.py:3: FutureWarning:\n",
      "\n",
      "Indexing with multiple keys (implicitly converted to a tuple of keys) will be deprecated, use a list instead.\n",
      "\n"
     ]
    }
   ],
   "source": [
    "#9.8. Как влияет наличие статуса активного клиента на отток клиентов? Постройте диаграмму, иллюстрирующую это.\n",
    "#Что бы вы предложили банку, чтобы уменьшить отток клиентов среди неактивных?\n",
    "grouped = churn_data.groupby(['IsActiveMember'])['Exited', 'Loyal'].sum()\n",
    "\n",
    "fig = px.bar(\n",
    "    data_frame=grouped,\n",
    "    x=grouped.index,\n",
    "    y=['Exited', 'Loyal'],\n",
    "    height=500, #высота\n",
    "    width=700, #ширина\n",
    "    title='Взаимосвязь статуса активности и оттока клиентов'\n",
    ")\n",
    "fig.write_image('data/img8.png')\n",
    "#fig.show()"
   ]
  },
  {
   "cell_type": "markdown",
   "metadata": {},
   "source": [
    "![title](data/img8.png)"
   ]
  },
  {
   "cell_type": "markdown",
   "metadata": {},
   "source": [
    "Среди неактивных клиентов (IsActiveMember = 0) отток клиентов выше, чем среди активных.\n",
    "В связи с этим хочется предложить банку работать с неактивными клиентами. Стимулировать их пользоваться счетами (если статус \"неактивный\" означает то, что человек не пользовался счётом какое-то время) и поддерживать баланс на счёте выше нуля. Как вариант можно продумать программы начисления кэшбека за покупки и процента на остаток по счёту."
   ]
  },
  {
   "cell_type": "code",
   "execution_count": 31,
   "metadata": {},
   "outputs": [],
   "source": [
    "#9.9. В какой стране доля ушедших клиентов больше? Постройте тепловую картограмму, которая покажет это соотношение на карте мира.\n",
    "#Предположите, с чем это может быть связано.\n",
    "\n",
    "#Сгруппируем данные по странам и рассчитаем среднее значение по полю Exited, это и будет доля ушедших клиентов\n",
    "choropleth_data = churn_data.groupby(['Geography'])['Exited'].mean()\n",
    "#print(choropleth_data)\n",
    "\n",
    "fig = px.choropleth(\n",
    "    data_frame=choropleth_data, \n",
    "    locations=choropleth_data.index, \n",
    "    locationmode = \"country names\", #режим сопоставления локаций с базой Plotly\n",
    "    color=\"Exited\", #от чего зависит цвет\n",
    "    range_color=[0, 1], #диапазон цвета, доли находятся в интервале от 0 до 1\n",
    "    title='Доля ушедщих клиентов по странам', #заголовок\n",
    "    width=800, #ширина\n",
    "    height=500, #высота\n",
    "    color_continuous_scale='Reds' #палитра цветов\n",
    ")\n",
    "fig.write_image('data/img9.png')\n",
    "#fig.show()"
   ]
  },
  {
   "cell_type": "markdown",
   "metadata": {},
   "source": [
    "![title](data/img9.png)"
   ]
  },
  {
   "cell_type": "markdown",
   "metadata": {},
   "source": [
    "Больше всего клиентов прекратило сотрудничество с банком в Германии.\n",
    "Доля ушедших клиентов составляет более 32 процентов."
   ]
  },
  {
   "cell_type": "code",
   "execution_count": 203,
   "metadata": {},
   "outputs": [],
   "source": [
    "#9.10. Переведите числовой признак CreditScore в категориальный. Для этого воспользуйтесь функцией get_credit_score_cat(), которая приведена ниже.\n",
    "#Примените её к столбцу CreditScore и создайте новый признак CreditScoreCat — категории кредитного рейтинга.\n",
    "\n",
    "def get_credit_score_cat(credit_score):\n",
    "    if credit_score >= 300 and credit_score < 500:\n",
    "        return \"Very_Poor\"\n",
    "    elif credit_score >= 500 and credit_score < 601:\n",
    "        return \"Poor\"\n",
    "    elif credit_score >= 601 and credit_score < 661:\n",
    "        return \"Fair\"\n",
    "    elif credit_score >= 661 and credit_score < 781:\n",
    "        return \"Good\"\n",
    "    elif credit_score >= 781 and credit_score < 851:\n",
    "        return \"Excellent\"\n",
    "    elif credit_score >= 851:\n",
    "        return \"Top\"\n",
    "    elif credit_score < 300:\n",
    "        return \"Deep\"\n",
    "\n",
    "churn_data['CreditScoreCat'] = churn_data['CreditScore'].apply(get_credit_score_cat)\n"
   ]
  },
  {
   "cell_type": "code",
   "execution_count": 207,
   "metadata": {},
   "outputs": [
    {
     "data": {
      "image/png": "[encoded data removed]",
      "text/plain": [
       "<Figure size 720x360 with 2 Axes>"
      ]
     },
     "metadata": {
      "needs_background": "light"
     },
     "output_type": "display_data"
    }
   ],
   "source": [
    "#Постройте сводную таблицу, строками которой являются категории кредитного рейтинга (CreditScoreCat), а столбцами — количество лет, в течение которых клиент пользуется услугами банка (Tenure).\n",
    "#В ячейках сводной таблицы должно находиться среднее по признаку оттока (Exited) — доля ушедших пользователей.\n",
    "pivot = churn_data.pivot_table(values ='Exited', index='CreditScoreCat', columns='Tenure', aggfunc='mean')\n",
    "\n",
    "#На основе полученной сводной таблицы постройте тепловую карту с аннотацией. Найдите на тепловой карте категории клиентов, которые уходят чаще всего.\n",
    "\n",
    "plt.figure(figsize=(10,5))\n",
    "heatmap = sns.heatmap(data=pivot, cmap='coolwarm', annot=True)\n",
    "heatmap.set_title('Ушедшие клиенты в разрезе категорий', fontsize=16);"
   ]
  },
  {
   "cell_type": "markdown",
   "metadata": {},
   "source": [
    "Наиболее высокие доли оттока клиентов наблюдаются в категории Very Poor\n",
    "(44 процента для тех, кто пользовался услугами банка менее года, и 33 процента для тех, кто с банком около 10 лет)\n",
    "\n",
    "В категории с наивысшим кредитным рейтингом Excellent 28 процентов клиентов, пользовавшихся услугами банка до года, прекратило сотрудничество с банком."
   ]
  }
 ],
 "metadata": {
  "interpreter": {
   "hash": "4f10dd5a24d815679ac42dc1bc4e34e853cad85f210905d353dce920ee0c2f85"
  },
  "kernelspec": {
   "display_name": "Python 3.8.12 64-bit ('Nadin_tiger': conda)",
   "language": "python",
   "name": "python3"
  },
  "language_info": {
   "codemirror_mode": {
    "name": "ipython",
    "version": 3
   },
   "file_extension": ".py",
   "mimetype": "text/x-python",
   "name": "python",
   "nbconvert_exporter": "python",
   "pygments_lexer": "ipython3",
   "version": "3.8.12"
  },
  "orig_nbformat": 4
 },
 "nbformat": 4,
 "nbformat_minor": 2
}
