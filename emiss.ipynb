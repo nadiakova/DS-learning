{
 "cells": [
  {
   "cell_type": "markdown",
   "metadata": {},
   "source": [
    "## <center> Data engineer Home case"
   ]
  },
  {
   "cell_type": "markdown",
   "metadata": {},
   "source": [
    "\n",
    "SUMMARY\n",
    "\n",
    "Rosstat periodically provides different data about agriculture market.\n",
    "\n",
    "The task is to automate the process of gathering and storing sample data (Harvested area) into database (using Python) and make some analytics based on downloaded data (using SQL)\n",
    "\n",
    "\n",
    "\n",
    "TASKS:\n",
    "\n",
    "1. Python\n",
    "Write the python script (Jupyter Notebook preferable), that:\n",
    "\n",
    "* Parses the data from https://www.fedstat.ru/indicator/31328\n",
    "\n",
    "\n",
    "for every:\n",
    "year [ 2016 – last available year], product [пшеница яровая, пшеница озимая, кукуруза на зерно], region\t"
   ]
  },
  {
   "cell_type": "code",
   "execution_count": 43,
   "metadata": {},
   "outputs": [],
   "source": [
    "import requests\n",
    "from bs4 import BeautifulSoup\n",
    "\n",
    "import os, os.path\n",
    "\n",
    "import re"
   ]
  },
  {
   "cell_type": "code",
   "execution_count": 49,
   "metadata": {},
   "outputs": [
    {
     "data": {
      "text/plain": [
       "200"
      ]
     },
     "metadata": {},
     "output_type": "display_data"
    }
   ],
   "source": [
    "# Запрос к указанной странице и преобразование полученных данных к читабельному виду\n",
    "\n",
    "url = 'https://www.fedstat.ru/indicator/31328'\n",
    "response = requests.get(url)\n",
    "\n",
    "display(response.status_code)\n",
    "\n",
    "page = BeautifulSoup(response.text, 'html.parser')\n"
   ]
  },
  {
   "cell_type": "markdown",
   "metadata": {},
   "source": [
    "Результат предыдущего запроса содержит информацию:\n",
    "\n",
    "window['grid'] = new FGrid({\n",
    "                        id: 31328,\n",
    "                        block: $('#grid'),\n",
    "                        debug: true,\n",
    "                        title: '\\u041F\\u043E\\u0441\\u0435\\u0432\\u043D\\u044B\\u0435 \\u043F\\u043B\\u043E\\u0449\\u0430\\u0434\\u0438 \\u0441\\u0435\\u043B\\u044C\\u0441\\u043A\\u043E\\u0445\\u043E\\u0437\\u044F\\u0439\\u0441\\u0442\\u0432\\u0435\\u043D\\u043D\\u044B\\u0445 \\u043A\\u0443\\u043B\\u044C\\u0442\\u0443\\u0440',\n",
    "                        unit: '\\u0442\\u044B\\u0441\\u044F\\u0447\\u0430 \\u0433\\u0435\\u043A\\u0442\\u0430\\u0440\\u043E\\u0432',\n",
    "                        filters: {\n",
    "                            0: {\n",
    "                                title: '\\u041F\\u043E\\u043A\\u0430\\u0437\\u0430\\u0442\\u0435\\u043B\\u044C',\n",
    "                                all: true,\n",
    "                                values: {\n",
    "                                    31328: {\n",
    "                                        title: '\\u041F\\u043E\\u0441\\u0435\\u0432\\u043D\\u044B\\u0435 \\u043F\\u043B\\u043E\\u0449\\u0430\\u0434\\u0438 \\u0441\\u0435\\u043B\\u044C\\u0441\\u043A\\u043E\\u0445\\u043E\\u0437\\u044F\\u0439\\u0441\\u0442\\u0432\\u0435\\u043D\\u043D\\u044B\\u0445 \\u043A\\u0443\\u043B\\u044C\\u0442\\u0443\\u0440',\n",
    "                                        order: 0,\n",
    "                                        checked: true\n",
    "                                    }\n",
    "                                },\n",
    "                                indicator: true\n",
    "                            },\n",
    "                            3: {\n",
    "                                title: '\\u0413\\u043E\\u0434',\n",
    "                                all: false,\n",
    "                                values: {\n",
    "                                    1990: {\n",
    "                                        title: '1990',\n",
    "                                        order: 0,\n",
    "                                        checked: false\n",
    "...\n",
    "\n",
    "Из этого можно извлечь коды полей, с которыми в дальнейшем предстоит работать, чтобы извлечь конкетные цифры. Для этого пришлось сопоставить структуру New FGrid с информацией на сайте.\n",
    "\n",
    "Периоды: поле имеет код 3, значениями являются годы, нас интересуют 2016-2021\n",
    "\n",
    "Единица измерения: код 0, значение 31328 - тысяча гектаров (совпадает с кодом индикатора)\n",
    "\n",
    "Хозяйства: код поля 58423, нас интересует значение \"все\", его код 1750642\n",
    "\n",
    "Сельхоз культуры: поле 30611, значения 14 - кукуруза на зерно, 28 - пшеница озимая и 30 - пшеница яровая\n",
    "\n",
    "Регионы: поле 57831. Нас интересуют не все значения, так как в справочнике есть значения\n",
    "\n",
    " Российская Федерация или Южный Федеральный округ, содержащие итоги. Но возможно проще будет выбрать все, и исключить лишние на следующем шаге."
   ]
  },
  {
   "cell_type": "code",
   "execution_count": 45,
   "metadata": {},
   "outputs": [],
   "source": [
    "# Здесь необходимо составить структуру следующего запроса к сайту ЕМИСС на основе информации выше,\n",
    "# чтобы получить конкретные данные\n",
    "\n",
    "# Мне было непонятно, к какой странице обращаться, чтобы получить собственно данные,\n",
    "# и каким образом перечислить в запросе указанные выше поля.\n",
    "\n",
    "# Поэтому использовала чужое решение в открытом доступе, созданное для предыдущей версии сайта ЕМИСС\n",
    "# https://github.com/infoculture/hubofdata/blob/master/scripts/catalogs/fedstatru/emiss_extract.py\n",
    "\n",
    "url_data = 'https://fedstat.ru/indicator/data.do'\n",
    "\n",
    "the_word='new FGrid'\n",
    "data=str(page.findAll('script',text=lambda t: t and the_word in t)[0])\n",
    "\n",
    "found = re.search('title: \\'(.+)', data).group()\n",
    "title=found.split(': ')[1]\n",
    "\n",
    "data_post=[('lineObjectIds','0')]\n",
    "try:\n",
    "    found = re.search('left_columns: \\[\\n(.+)', data).group(1)\n",
    "except AttributeError:\n",
    "    found = '' \n",
    "\n",
    "for i in found.strip().split(', '):\n",
    "    data_post.append(('lineObjectIds',i))\n",
    "\n",
    "try:\n",
    "    found = re.search('top_columns: \\[\\n(.+)', data).group(1)\n",
    "except AttributeError:\n",
    "    found = '' \n",
    "\n",
    "\n",
    "for i in found.strip().split(', '):\n",
    "    data_post.append(('columnObjectIds',i))\n",
    "\n",
    "i=0\n",
    "prefix=''\n",
    "suffix=''\n",
    "num=data.find('filters')\n",
    "\n",
    "for letter in data[num:].splitlines():\n",
    "    if '{' in letter:\n",
    "        i+=1\n",
    "    if '}' in letter:\n",
    "        i-=1\n",
    "    if re.findall('\\d+: {' ,letter):\n",
    "        if i<=2:\n",
    "            prefix=letter.strip().split(':')[0]\n",
    "        if i>2:\n",
    "            suffix=letter.strip().split(':')[0]\n",
    "    data_post.append(('selectedFilterIds',prefix+'_'+suffix))\n",
    "    \n",
    "data_post.append(('id', '31328'))\n",
    "params = (('format', 'excel'),)\n",
    "\n",
    "\n",
    "resp = requests.post(url_data, params=params, data=data_post)\n"
   ]
  },
  {
   "cell_type": "code",
   "execution_count": 46,
   "metadata": {},
   "outputs": [
    {
     "data": {
      "text/plain": [
       "[('lineObjectIds', '0'),\n",
       " ('lineObjectIds', '57831'),\n",
       " ('columnObjectIds', '3'),\n",
       " ('columnObjectIds', '58423'),\n",
       " ('columnObjectIds', '58745'),\n",
       " ('selectedFilterIds', '_'),\n",
       " ('selectedFilterIds', '0_'),\n",
       " ('selectedFilterIds', '0_'),\n",
       " ('selectedFilterIds', '0_'),\n",
       " ('selectedFilterIds', '0_'),\n",
       " ('selectedFilterIds', '0_31328'),\n",
       " ('selectedFilterIds', '0_31328'),\n",
       " ('selectedFilterIds', '0_31328'),\n",
       " ('selectedFilterIds', '0_31328'),\n",
       " ('selectedFilterIds', '0_31328'),\n",
       " ('selectedFilterIds', '0_31328'),\n",
       " ('selectedFilterIds', '0_31328'),\n",
       " ('selectedFilterIds', '0_31328'),\n",
       " ('selectedFilterIds', '3_31328'),\n",
       " ('selectedFilterIds', '3_31328')]"
      ]
     },
     "execution_count": 46,
     "metadata": {},
     "output_type": "execute_result"
    }
   ],
   "source": [
    "# Следюущий шаг - переформатировать данные для запроса data_post, чтобы получить файл нужного нам формата\n",
    " \n",
    "data_post[:20]"
   ]
  },
  {
   "cell_type": "code",
   "execution_count": 47,
   "metadata": {},
   "outputs": [],
   "source": [
    "# Сохранение данных в Excel\n",
    "\n",
    "f = open('data_31328.xlsx', 'wb')\n",
    "f.write(resp.content)\n",
    "f.close()"
   ]
  },
  {
   "cell_type": "markdown",
   "metadata": {},
   "source": [
    "* Inserts these data into database table (Postgres preferable) with the structure:\n",
    "\n",
    "region_name, begin_date, end_date, product_type, volume"
   ]
  },
  {
   "cell_type": "code",
   "execution_count": 48,
   "metadata": {},
   "outputs": [],
   "source": [
    "# Здесь будет блок кода по переносу данных из Excel в базу Postgres"
   ]
  }
 ],
 "metadata": {
  "interpreter": {
   "hash": "4f10dd5a24d815679ac42dc1bc4e34e853cad85f210905d353dce920ee0c2f85"
  },
  "kernelspec": {
   "display_name": "Python 3.8.12 64-bit ('Nadin_tiger': conda)",
   "language": "python",
   "name": "python3"
  },
  "language_info": {
   "codemirror_mode": {
    "name": "ipython",
    "version": 3
   },
   "file_extension": ".py",
   "mimetype": "text/x-python",
   "name": "python",
   "nbconvert_exporter": "python",
   "pygments_lexer": "ipython3",
   "version": "3.8.12"
  },
  "orig_nbformat": 4
 },
 "nbformat": 4,
 "nbformat_minor": 2
}
